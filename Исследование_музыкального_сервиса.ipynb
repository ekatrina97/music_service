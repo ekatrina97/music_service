{
 "cells": [
  {
   "cell_type": "markdown",
   "metadata": {
    "id": "E0vqbgi9ay0H"
   },
   "source": [
    "# Яндекс.Музыка"
   ]
  },
  {
   "cell_type": "markdown",
   "metadata": {
    "id": "VUC88oWjTJw2"
   },
   "source": [
    "Сравнение Москвы и Петербурга окружено мифами. Например:\n",
    " * Москва — мегаполис, подчинённый жёсткому ритму рабочей недели;\n",
    " * Петербург — культурная столица, со своими вкусами.\n",
    "\n",
    "На данных Яндекс.Музыки сравним поведение пользователей двух столиц.\n",
    "\n",
    "**Цель исследования** — проверьте три гипотезы:\n",
    "1. Активность пользователей зависит от дня недели. Причём в Москве и Петербурге это проявляется по-разному.\n",
    "2. В понедельник утром в Москве преобладают одни жанры, а в Петербурге — другие. Так же и вечером пятницы преобладают разные жанры — в зависимости от города. \n",
    "3. Москва и Петербург предпочитают разные жанры музыки. В Москве чаще слушают поп-музыку, в Петербурге — русский рэп.\n",
    "\n",
    "**Исходные данные**\n",
    "Данные о поведении пользователей находятся в файле `yandex_music_project.csv`. "
   ]
  },
  {
   "cell_type": "code",
   "execution_count": 25,
   "metadata": {
    "id": "AXN7PHPN_Zcs"
   },
   "outputs": [],
   "source": [
    "# импорт необходимых библиотек\n",
    "import pandas as pd \n",
    "from IPython.display import display"
   ]
  },
  {
   "cell_type": "code",
   "execution_count": 26,
   "metadata": {
    "id": "fFVu7vqh_Zct"
   },
   "outputs": [],
   "source": [
    "# чтение данных из файла\n",
    "df = pd.read_csv('/datasets/yandex_music_project.csv') # чтение файла с данными и сохранение в df"
   ]
  },
  {
   "cell_type": "code",
   "execution_count": 27,
   "metadata": {
    "id": "oWTVX3gW_Zct"
   },
   "outputs": [
    {
     "data": {
      "text/html": [
       "<div>\n",
       "<style scoped>\n",
       "    .dataframe tbody tr th:only-of-type {\n",
       "        vertical-align: middle;\n",
       "    }\n",
       "\n",
       "    .dataframe tbody tr th {\n",
       "        vertical-align: top;\n",
       "    }\n",
       "\n",
       "    .dataframe thead th {\n",
       "        text-align: right;\n",
       "    }\n",
       "</style>\n",
       "<table border=\"1\" class=\"dataframe\">\n",
       "  <thead>\n",
       "    <tr style=\"text-align: right;\">\n",
       "      <th></th>\n",
       "      <th>userID</th>\n",
       "      <th>Track</th>\n",
       "      <th>artist</th>\n",
       "      <th>genre</th>\n",
       "      <th>City</th>\n",
       "      <th>time</th>\n",
       "      <th>Day</th>\n",
       "    </tr>\n",
       "  </thead>\n",
       "  <tbody>\n",
       "    <tr>\n",
       "      <td>0</td>\n",
       "      <td>FFB692EC</td>\n",
       "      <td>Kamigata To Boots</td>\n",
       "      <td>The Mass Missile</td>\n",
       "      <td>rock</td>\n",
       "      <td>Saint-Petersburg</td>\n",
       "      <td>20:28:33</td>\n",
       "      <td>Wednesday</td>\n",
       "    </tr>\n",
       "    <tr>\n",
       "      <td>1</td>\n",
       "      <td>55204538</td>\n",
       "      <td>Delayed Because of Accident</td>\n",
       "      <td>Andreas Rönnberg</td>\n",
       "      <td>rock</td>\n",
       "      <td>Moscow</td>\n",
       "      <td>14:07:09</td>\n",
       "      <td>Friday</td>\n",
       "    </tr>\n",
       "    <tr>\n",
       "      <td>2</td>\n",
       "      <td>20EC38</td>\n",
       "      <td>Funiculì funiculà</td>\n",
       "      <td>Mario Lanza</td>\n",
       "      <td>pop</td>\n",
       "      <td>Saint-Petersburg</td>\n",
       "      <td>20:58:07</td>\n",
       "      <td>Wednesday</td>\n",
       "    </tr>\n",
       "    <tr>\n",
       "      <td>3</td>\n",
       "      <td>A3DD03C9</td>\n",
       "      <td>Dragons in the Sunset</td>\n",
       "      <td>Fire + Ice</td>\n",
       "      <td>folk</td>\n",
       "      <td>Saint-Petersburg</td>\n",
       "      <td>08:37:09</td>\n",
       "      <td>Monday</td>\n",
       "    </tr>\n",
       "    <tr>\n",
       "      <td>4</td>\n",
       "      <td>E2DC1FAE</td>\n",
       "      <td>Soul People</td>\n",
       "      <td>Space Echo</td>\n",
       "      <td>dance</td>\n",
       "      <td>Moscow</td>\n",
       "      <td>08:34:34</td>\n",
       "      <td>Monday</td>\n",
       "    </tr>\n",
       "    <tr>\n",
       "      <td>5</td>\n",
       "      <td>842029A1</td>\n",
       "      <td>Преданная</td>\n",
       "      <td>IMPERVTOR</td>\n",
       "      <td>rusrap</td>\n",
       "      <td>Saint-Petersburg</td>\n",
       "      <td>13:09:41</td>\n",
       "      <td>Friday</td>\n",
       "    </tr>\n",
       "    <tr>\n",
       "      <td>6</td>\n",
       "      <td>4CB90AA5</td>\n",
       "      <td>True</td>\n",
       "      <td>Roman Messer</td>\n",
       "      <td>dance</td>\n",
       "      <td>Moscow</td>\n",
       "      <td>13:00:07</td>\n",
       "      <td>Wednesday</td>\n",
       "    </tr>\n",
       "    <tr>\n",
       "      <td>7</td>\n",
       "      <td>F03E1C1F</td>\n",
       "      <td>Feeling This Way</td>\n",
       "      <td>Polina Griffith</td>\n",
       "      <td>dance</td>\n",
       "      <td>Moscow</td>\n",
       "      <td>20:47:49</td>\n",
       "      <td>Wednesday</td>\n",
       "    </tr>\n",
       "    <tr>\n",
       "      <td>8</td>\n",
       "      <td>8FA1D3BE</td>\n",
       "      <td>И вновь продолжается бой</td>\n",
       "      <td>NaN</td>\n",
       "      <td>ruspop</td>\n",
       "      <td>Moscow</td>\n",
       "      <td>09:17:40</td>\n",
       "      <td>Friday</td>\n",
       "    </tr>\n",
       "    <tr>\n",
       "      <td>9</td>\n",
       "      <td>E772D5C0</td>\n",
       "      <td>Pessimist</td>\n",
       "      <td>NaN</td>\n",
       "      <td>dance</td>\n",
       "      <td>Saint-Petersburg</td>\n",
       "      <td>21:20:49</td>\n",
       "      <td>Wednesday</td>\n",
       "    </tr>\n",
       "  </tbody>\n",
       "</table>\n",
       "</div>"
      ],
      "text/plain": [
       "     userID                        Track            artist   genre  \\\n",
       "0  FFB692EC            Kamigata To Boots  The Mass Missile    rock   \n",
       "1  55204538  Delayed Because of Accident  Andreas Rönnberg    rock   \n",
       "2    20EC38            Funiculì funiculà       Mario Lanza     pop   \n",
       "3  A3DD03C9        Dragons in the Sunset        Fire + Ice    folk   \n",
       "4  E2DC1FAE                  Soul People        Space Echo   dance   \n",
       "5  842029A1                    Преданная         IMPERVTOR  rusrap   \n",
       "6  4CB90AA5                         True      Roman Messer   dance   \n",
       "7  F03E1C1F             Feeling This Way   Polina Griffith   dance   \n",
       "8  8FA1D3BE     И вновь продолжается бой               NaN  ruspop   \n",
       "9  E772D5C0                    Pessimist               NaN   dance   \n",
       "\n",
       "             City        time        Day  \n",
       "0  Saint-Petersburg  20:28:33  Wednesday  \n",
       "1            Moscow  14:07:09     Friday  \n",
       "2  Saint-Petersburg  20:58:07  Wednesday  \n",
       "3  Saint-Petersburg  08:37:09     Monday  \n",
       "4            Moscow  08:34:34     Monday  \n",
       "5  Saint-Petersburg  13:09:41     Friday  \n",
       "6            Moscow  13:00:07  Wednesday  \n",
       "7            Moscow  20:47:49  Wednesday  \n",
       "8            Moscow  09:17:40     Friday  \n",
       "9  Saint-Petersburg  21:20:49  Wednesday  "
      ]
     },
     "metadata": {},
     "output_type": "display_data"
    }
   ],
   "source": [
    "# вывод первых строк\n",
    "df.head(10)"
   ]
  },
  {
   "cell_type": "code",
   "execution_count": 28,
   "metadata": {
    "id": "DSf2kIb-_Zct"
   },
   "outputs": [
    {
     "name": "stdout",
     "output_type": "stream",
     "text": [
      "<class 'pandas.core.frame.DataFrame'>\n",
      "RangeIndex: 65079 entries, 0 to 65078\n",
      "Data columns (total 7 columns):\n",
      "  userID    65079 non-null object\n",
      "Track       63848 non-null object\n",
      "artist      57876 non-null object\n",
      "genre       63881 non-null object\n",
      "  City      65079 non-null object\n",
      "time        65079 non-null object\n",
      "Day         65079 non-null object\n",
      "dtypes: object(7)\n",
      "memory usage: 3.5+ MB\n"
     ]
    }
   ],
   "source": [
    "# получение общей информации о данных в таблице df\n",
    "df.info() "
   ]
  },
  {
   "cell_type": "markdown",
   "metadata": {
    "id": "TaQ2Iwbr_Zct"
   },
   "source": [
    "Итак, в таблице семь столбцов. Тип данных во всех столбцах — `object`.\n",
    "\n",
    "Согласно документации к данным:\n",
    "* `userID` — идентификатор пользователя;\n",
    "* `Track` — название трека;  \n",
    "* `artist` — имя исполнителя;\n",
    "* `genre` — название жанра;\n",
    "* `City` — город пользователя;\n",
    "* `time` — время начала прослушивания;\n",
    "* `Day` — день недели.\n",
    "\n",
    "В названиях колонок видны три нарушения стиля:\n",
    "1. Строчные буквы сочетаются с прописными.\n",
    "2. Встречаются пробелы.\n",
    "3. Словосочетания не записаны в \"змеином регистре\".\n",
    "4. Из названий не понятно, о чём идет речь.\n",
    "\n",
    "\n",
    "\n",
    "Количество значений в столбцах различается. Значит, в данных есть пропущенные значения.\n"
   ]
  },
  {
   "cell_type": "markdown",
   "metadata": {
    "id": "MCB6-dXG_Zct"
   },
   "source": [
    "**Выводы**\n",
    "\n",
    "В каждой строке таблицы — данные о прослушанном треке. Часть колонок описывает саму композицию: название, исполнителя и жанр. Остальные данные рассказывают о пользователе: из какого он города, когда он слушал музыку. \n",
    "\n",
    "Предварительно можно утверждать, что, данных достаточно для проверки гипотез. Но встречаются пропуски в данных, а в названиях колонок — расхождения с хорошим стилем.\n",
    "\n",
    "Чтобы двигаться дальше, нужно устранить проблемы в данных."
   ]
  },
  {
   "cell_type": "markdown",
   "metadata": {
    "id": "SjYF6Ub9_Zct"
   },
   "source": [
    "## Предобработка данных"
   ]
  },
  {
   "cell_type": "markdown",
   "metadata": {
    "id": "dIaKXr29_Zct"
   },
   "source": [
    "### Стиль заголовков"
   ]
  },
  {
   "cell_type": "code",
   "execution_count": 29,
   "metadata": {
    "id": "oKOTdF_Q_Zct"
   },
   "outputs": [
    {
     "data": {
      "text/plain": [
       "Index(['  userID', 'Track', 'artist', 'genre', '  City  ', 'time', 'Day'], dtype='object')"
      ]
     },
     "execution_count": 29,
     "metadata": {},
     "output_type": "execute_result"
    }
   ],
   "source": [
    "# перечень названий столбцов таблицы df\n",
    "df.columns "
   ]
  },
  {
   "cell_type": "code",
   "execution_count": 30,
   "metadata": {
    "id": "ISlFqs5y_Zct"
   },
   "outputs": [],
   "source": [
    "# переименование столбцов\n",
    "df = df.rename(columns = {\n",
    "    '  userID':'user_id',\n",
    "    'Track':'track',\n",
    "    '  City  ':'city',\n",
    "    'Day':'day'})"
   ]
  },
  {
   "cell_type": "code",
   "execution_count": 32,
   "metadata": {
    "id": "d4NOAmTW_Zct"
   },
   "outputs": [
    {
     "data": {
      "text/plain": [
       "Index(['user_id', 'track', 'artist', 'genre', 'city', 'time', 'day'], dtype='object')"
      ]
     },
     "execution_count": 32,
     "metadata": {},
     "output_type": "execute_result"
    }
   ],
   "source": [
    "# проверка результатов - перечень названий столбцов\n",
    "df.columns "
   ]
  },
  {
   "cell_type": "markdown",
   "metadata": {
    "id": "5ISfbcfY_Zct"
   },
   "source": [
    "### Пропуски значений\n",
    "Подсчитаем пропуски в таблице."
   ]
  },
  {
   "cell_type": "code",
   "execution_count": 33,
   "metadata": {
    "id": "RskX29qr_Zct"
   },
   "outputs": [
    {
     "data": {
      "text/plain": [
       "user_id       0\n",
       "track      1231\n",
       "artist     7203\n",
       "genre      1198\n",
       "city          0\n",
       "time          0\n",
       "day           0\n",
       "dtype: int64"
      ]
     },
     "execution_count": 33,
     "metadata": {},
     "output_type": "execute_result"
    }
   ],
   "source": [
    "# подсчёт пропусков\n",
    "df.isna().sum()"
   ]
  },
  {
   "cell_type": "markdown",
   "metadata": {
    "id": "qubhgnlO_Zct"
   },
   "source": [
    "Не все пропущенные значения влияют на исследование. Так в `track` и `artist` пропуски не важны для вашей работы. Достаточно заменить их явными обозначениями.\n",
    "\n",
    "Но пропуски в `genre` могут помешать сравнению музыкальных вкусов в Москве и Санкт-Петербурге. На практике было бы правильно установить причину пропусков и восстановить данные. Такой возможности нет в учебном проекте. Придётся:\n",
    "* заполнить и эти пропуски явными обозначениями,\n",
    "* оценить, насколько они повредят расчётам. "
   ]
  },
  {
   "cell_type": "markdown",
   "metadata": {
    "id": "fSv2laPA_Zct"
   },
   "source": [
    "Пропущенные значения в столбцах `track`, `artist` и `genre` заменим на строку `'unknown'`."
   ]
  },
  {
   "cell_type": "code",
   "execution_count": 34,
   "metadata": {},
   "outputs": [],
   "source": [
    "# замена пропущенных значений\n",
    "columns_to_replace = ['track', 'artist', 'genre']\n",
    "for column in columns_to_replace:\n",
    "    df[column] = df[column].fillna('unknown')"
   ]
  },
  {
   "cell_type": "markdown",
   "metadata": {
    "id": "Ilsm-MZo_Zct"
   },
   "source": [
    "Убедимся, что в таблице не осталось пропусков."
   ]
  },
  {
   "cell_type": "code",
   "execution_count": 35,
   "metadata": {
    "id": "Tq4nYRX4_Zct"
   },
   "outputs": [
    {
     "data": {
      "text/plain": [
       "user_id    0\n",
       "track      0\n",
       "artist     0\n",
       "genre      0\n",
       "city       0\n",
       "time       0\n",
       "day        0\n",
       "dtype: int64"
      ]
     },
     "execution_count": 35,
     "metadata": {},
     "output_type": "execute_result"
    }
   ],
   "source": [
    "# подсчёт пропусков\n",
    "df.isna().sum() "
   ]
  },
  {
   "cell_type": "markdown",
   "metadata": {
    "id": "BWKRtBJ3_Zct"
   },
   "source": [
    "### Дубликаты\n",
    "Посчитаем количество явных дубликатов в таблице:"
   ]
  },
  {
   "cell_type": "code",
   "execution_count": 36,
   "metadata": {
    "id": "36eES_S0_Zct"
   },
   "outputs": [
    {
     "name": "stdout",
     "output_type": "stream",
     "text": [
      "Количество явных дубликатов: 3826\n"
     ]
    }
   ],
   "source": [
    "# подсчёт явных дубликатов\n",
    "print('Количество явных дубликатов: {}'.format(df.duplicated().sum()))"
   ]
  },
  {
   "cell_type": "markdown",
   "metadata": {
    "id": "Ot25h6XR_Zct"
   },
   "source": [
    "Удалим явные дубликаты."
   ]
  },
  {
   "cell_type": "code",
   "execution_count": 37,
   "metadata": {
    "id": "exFHq6tt_Zct"
   },
   "outputs": [],
   "source": [
    "# удаление явных дубликатов (с удалением старых индексов и формированием новых)\n",
    "df = df.drop_duplicates().reset_index(drop = True)"
   ]
  },
  {
   "cell_type": "code",
   "execution_count": 38,
   "metadata": {
    "id": "-8PuNWQ0_Zct"
   },
   "outputs": [
    {
     "name": "stdout",
     "output_type": "stream",
     "text": [
      "Количество явных дубликатов: 0\n"
     ]
    }
   ],
   "source": [
    "# проверка на отсутствие дубликатов\n",
    "print('Количество явных дубликатов: {}'.format(df.duplicated().sum()))"
   ]
  },
  {
   "cell_type": "markdown",
   "metadata": {
    "id": "QlFBsxAr_Zct"
   },
   "source": [
    "Теперь избавимся от неявных дубликатов в колонке `genre`."
   ]
  },
  {
   "cell_type": "markdown",
   "metadata": {
    "id": "eSjWwsOh_Zct"
   },
   "source": [
    "Посмотрим на список уникальных названий жанров, отсортированный в алфавитном порядке."
   ]
  },
  {
   "cell_type": "code",
   "execution_count": 14,
   "metadata": {
    "id": "JIUcqzZN_Zct"
   },
   "outputs": [
    {
     "data": {
      "text/plain": [
       "array(['acid', 'acoustic', 'action', 'adult', 'africa', 'afrikaans',\n",
       "       'alternative', 'alternativepunk', 'ambient', 'americana',\n",
       "       'animated', 'anime', 'arabesk', 'arabic', 'arena',\n",
       "       'argentinetango', 'art', 'audiobook', 'author', 'avantgarde',\n",
       "       'axé', 'baile', 'balkan', 'beats', 'bigroom', 'black', 'bluegrass',\n",
       "       'blues', 'bollywood', 'bossa', 'brazilian', 'breakbeat', 'breaks',\n",
       "       'broadway', 'cantautori', 'cantopop', 'canzone', 'caribbean',\n",
       "       'caucasian', 'celtic', 'chamber', 'chanson', 'children', 'chill',\n",
       "       'chinese', 'choral', 'christian', 'christmas', 'classical',\n",
       "       'classicmetal', 'club', 'colombian', 'comedy', 'conjazz',\n",
       "       'contemporary', 'country', 'cuban', 'dance', 'dancehall',\n",
       "       'dancepop', 'dark', 'death', 'deep', 'deutschrock', 'deutschspr',\n",
       "       'dirty', 'disco', 'dnb', 'documentary', 'downbeat', 'downtempo',\n",
       "       'drum', 'dub', 'dubstep', 'eastern', 'easy', 'electronic',\n",
       "       'electropop', 'emo', 'entehno', 'epicmetal', 'estrada', 'ethnic',\n",
       "       'eurofolk', 'european', 'experimental', 'extrememetal', 'fado',\n",
       "       'fairytail', 'film', 'fitness', 'flamenco', 'folk', 'folklore',\n",
       "       'folkmetal', 'folkrock', 'folktronica', 'forró', 'frankreich',\n",
       "       'französisch', 'french', 'funk', 'future', 'gangsta', 'garage',\n",
       "       'german', 'ghazal', 'gitarre', 'glitch', 'gospel', 'gothic',\n",
       "       'grime', 'grunge', 'gypsy', 'handsup', \"hard'n'heavy\", 'hardcore',\n",
       "       'hardstyle', 'hardtechno', 'hip', 'hip-hop', 'hiphop',\n",
       "       'historisch', 'holiday', 'hop', 'horror', 'house', 'hymn', 'idm',\n",
       "       'independent', 'indian', 'indie', 'indipop', 'industrial',\n",
       "       'inspirational', 'instrumental', 'international', 'irish', 'jam',\n",
       "       'japanese', 'jazz', 'jewish', 'jpop', 'jungle', 'k-pop',\n",
       "       'karadeniz', 'karaoke', 'kayokyoku', 'korean', 'laiko', 'latin',\n",
       "       'latino', 'leftfield', 'local', 'lounge', 'loungeelectronic',\n",
       "       'lovers', 'malaysian', 'mandopop', 'marschmusik', 'meditative',\n",
       "       'mediterranean', 'melodic', 'metal', 'metalcore', 'mexican',\n",
       "       'middle', 'minimal', 'miscellaneous', 'modern', 'mood', 'mpb',\n",
       "       'muslim', 'native', 'neoklassik', 'neue', 'new', 'newage',\n",
       "       'newwave', 'nu', 'nujazz', 'numetal', 'oceania', 'old', 'opera',\n",
       "       'orchestral', 'other', 'piano', 'podcasts', 'pop', 'popdance',\n",
       "       'popelectronic', 'popeurodance', 'poprussian', 'post',\n",
       "       'posthardcore', 'postrock', 'power', 'progmetal', 'progressive',\n",
       "       'psychedelic', 'punjabi', 'punk', 'quebecois', 'ragga', 'ram',\n",
       "       'rancheras', 'rap', 'rave', 'reggae', 'reggaeton', 'regional',\n",
       "       'relax', 'religious', 'retro', 'rhythm', 'rnb', 'rnr', 'rock',\n",
       "       'rockabilly', 'rockalternative', 'rockindie', 'rockother',\n",
       "       'romance', 'roots', 'ruspop', 'rusrap', 'rusrock', 'russian',\n",
       "       'salsa', 'samba', 'scenic', 'schlager', 'self', 'sertanejo',\n",
       "       'shanson', 'shoegazing', 'showtunes', 'singer', 'ska', 'skarock',\n",
       "       'slow', 'smooth', 'soft', 'soul', 'soulful', 'sound', 'soundtrack',\n",
       "       'southern', 'specialty', 'speech', 'spiritual', 'sport',\n",
       "       'stonerrock', 'surf', 'swing', 'synthpop', 'synthrock',\n",
       "       'sängerportrait', 'tango', 'tanzorchester', 'taraftar', 'tatar',\n",
       "       'tech', 'techno', 'teen', 'thrash', 'top', 'traditional',\n",
       "       'tradjazz', 'trance', 'tribal', 'trip', 'triphop', 'tropical',\n",
       "       'türk', 'türkçe', 'ukrrock', 'unknown', 'urban', 'uzbek',\n",
       "       'variété', 'vi', 'videogame', 'vocal', 'western', 'world',\n",
       "       'worldbeat', 'ïîï', 'электроника'], dtype=object)"
      ]
     },
     "execution_count": 14,
     "metadata": {},
     "output_type": "execute_result"
    }
   ],
   "source": [
    "# просмотр уникальных названий жанров\n",
    "df['genre'].sort_values().unique()"
   ]
  },
  {
   "cell_type": "markdown",
   "metadata": {},
   "source": [
    "Напишем функцию для замены неявных дубликатов."
   ]
  },
  {
   "cell_type": "code",
   "execution_count": 15,
   "metadata": {
    "id": "ErNDkmns_Zct"
   },
   "outputs": [],
   "source": [
    "# функция для замены неявных дубликатов\n",
    "def replace_wrong_genres(wrong_genres, correct_genre): \n",
    "    for wrong_genre in wrong_genres:\n",
    "        df['genre'] = df['genre'].replace(wrong_genre, correct_genre)\n",
    "        \n",
    "duplicates = ['hip', 'hop', 'hip-hop']\n",
    "correct_genre_name = 'hiphop'"
   ]
  },
  {
   "cell_type": "code",
   "execution_count": 16,
   "metadata": {
    "id": "YN5i2hpmSo09"
   },
   "outputs": [],
   "source": [
    "# устранение неявных дубликатов\n",
    "replace_wrong_genres(duplicates, correct_genre_name)"
   ]
  },
  {
   "cell_type": "code",
   "execution_count": 17,
   "metadata": {
    "id": "wvixALnFG15m"
   },
   "outputs": [
    {
     "data": {
      "text/plain": [
       "array(['acid', 'acoustic', 'action', 'adult', 'africa', 'afrikaans',\n",
       "       'alternative', 'alternativepunk', 'ambient', 'americana',\n",
       "       'animated', 'anime', 'arabesk', 'arabic', 'arena',\n",
       "       'argentinetango', 'art', 'audiobook', 'author', 'avantgarde',\n",
       "       'axé', 'baile', 'balkan', 'beats', 'bigroom', 'black', 'bluegrass',\n",
       "       'blues', 'bollywood', 'bossa', 'brazilian', 'breakbeat', 'breaks',\n",
       "       'broadway', 'cantautori', 'cantopop', 'canzone', 'caribbean',\n",
       "       'caucasian', 'celtic', 'chamber', 'chanson', 'children', 'chill',\n",
       "       'chinese', 'choral', 'christian', 'christmas', 'classical',\n",
       "       'classicmetal', 'club', 'colombian', 'comedy', 'conjazz',\n",
       "       'contemporary', 'country', 'cuban', 'dance', 'dancehall',\n",
       "       'dancepop', 'dark', 'death', 'deep', 'deutschrock', 'deutschspr',\n",
       "       'dirty', 'disco', 'dnb', 'documentary', 'downbeat', 'downtempo',\n",
       "       'drum', 'dub', 'dubstep', 'eastern', 'easy', 'electronic',\n",
       "       'electropop', 'emo', 'entehno', 'epicmetal', 'estrada', 'ethnic',\n",
       "       'eurofolk', 'european', 'experimental', 'extrememetal', 'fado',\n",
       "       'fairytail', 'film', 'fitness', 'flamenco', 'folk', 'folklore',\n",
       "       'folkmetal', 'folkrock', 'folktronica', 'forró', 'frankreich',\n",
       "       'französisch', 'french', 'funk', 'future', 'gangsta', 'garage',\n",
       "       'german', 'ghazal', 'gitarre', 'glitch', 'gospel', 'gothic',\n",
       "       'grime', 'grunge', 'gypsy', 'handsup', \"hard'n'heavy\", 'hardcore',\n",
       "       'hardstyle', 'hardtechno', 'hiphop', 'historisch', 'holiday',\n",
       "       'horror', 'house', 'hymn', 'idm', 'independent', 'indian', 'indie',\n",
       "       'indipop', 'industrial', 'inspirational', 'instrumental',\n",
       "       'international', 'irish', 'jam', 'japanese', 'jazz', 'jewish',\n",
       "       'jpop', 'jungle', 'k-pop', 'karadeniz', 'karaoke', 'kayokyoku',\n",
       "       'korean', 'laiko', 'latin', 'latino', 'leftfield', 'local',\n",
       "       'lounge', 'loungeelectronic', 'lovers', 'malaysian', 'mandopop',\n",
       "       'marschmusik', 'meditative', 'mediterranean', 'melodic', 'metal',\n",
       "       'metalcore', 'mexican', 'middle', 'minimal', 'miscellaneous',\n",
       "       'modern', 'mood', 'mpb', 'muslim', 'native', 'neoklassik', 'neue',\n",
       "       'new', 'newage', 'newwave', 'nu', 'nujazz', 'numetal', 'oceania',\n",
       "       'old', 'opera', 'orchestral', 'other', 'piano', 'podcasts', 'pop',\n",
       "       'popdance', 'popelectronic', 'popeurodance', 'poprussian', 'post',\n",
       "       'posthardcore', 'postrock', 'power', 'progmetal', 'progressive',\n",
       "       'psychedelic', 'punjabi', 'punk', 'quebecois', 'ragga', 'ram',\n",
       "       'rancheras', 'rap', 'rave', 'reggae', 'reggaeton', 'regional',\n",
       "       'relax', 'religious', 'retro', 'rhythm', 'rnb', 'rnr', 'rock',\n",
       "       'rockabilly', 'rockalternative', 'rockindie', 'rockother',\n",
       "       'romance', 'roots', 'ruspop', 'rusrap', 'rusrock', 'russian',\n",
       "       'salsa', 'samba', 'scenic', 'schlager', 'self', 'sertanejo',\n",
       "       'shanson', 'shoegazing', 'showtunes', 'singer', 'ska', 'skarock',\n",
       "       'slow', 'smooth', 'soft', 'soul', 'soulful', 'sound', 'soundtrack',\n",
       "       'southern', 'specialty', 'speech', 'spiritual', 'sport',\n",
       "       'stonerrock', 'surf', 'swing', 'synthpop', 'synthrock',\n",
       "       'sängerportrait', 'tango', 'tanzorchester', 'taraftar', 'tatar',\n",
       "       'tech', 'techno', 'teen', 'thrash', 'top', 'traditional',\n",
       "       'tradjazz', 'trance', 'tribal', 'trip', 'triphop', 'tropical',\n",
       "       'türk', 'türkçe', 'ukrrock', 'unknown', 'urban', 'uzbek',\n",
       "       'variété', 'vi', 'videogame', 'vocal', 'western', 'world',\n",
       "       'worldbeat', 'ïîï', 'электроника'], dtype=object)"
      ]
     },
     "execution_count": 17,
     "metadata": {},
     "output_type": "execute_result"
    }
   ],
   "source": [
    "# проверка на неявные дубликаты\n",
    "df['genre'].sort_values().unique()"
   ]
  },
  {
   "cell_type": "markdown",
   "metadata": {
    "id": "jz6a9-7HQUDd"
   },
   "source": [
    "**Выводы**\n",
    "\n",
    "Предобработка обнаружила три проблемы в данных:\n",
    "\n",
    "- нарушения в стиле заголовков,\n",
    "- пропущенные значения,\n",
    "- дубликаты — явные и неявные.\n",
    "\n",
    "Исправлены заголовки, удалены дубликаты. Пропущенные значения заменены на `'unknown'`. Теперь можно перейти к проверке гипотез. "
   ]
  },
  {
   "cell_type": "markdown",
   "metadata": {
    "id": "WttZHXH0SqKk"
   },
   "source": [
    "## Проверка гипотез"
   ]
  },
  {
   "cell_type": "markdown",
   "metadata": {
    "id": "Im936VVi_Zcu"
   },
   "source": [
    "### Сравнение поведения пользователей двух столиц"
   ]
  },
  {
   "cell_type": "markdown",
   "metadata": {
    "id": "nwt_MuaL_Zcu"
   },
   "source": [
    "Первая гипотеза утверждает, что пользователи по-разному слушают музыку в Москве и Санкт-Петербурге. Проверим это предположение по данным о трёх днях недели — понедельнике, среде и пятнице. Для этого:\n",
    "\n",
    "* Разделим пользователей Москвы и Санкт-Петербурга\n",
    "* Сравним, сколько треков послушала каждая группа пользователей в понедельник, среду и пятницу.\n"
   ]
  },
  {
   "cell_type": "markdown",
   "metadata": {
    "id": "8Dw_YMmT_Zcu"
   },
   "source": [
    "Для начала оценим активность пользователей в каждом городе. Сгруппируем данные по городу и посчитаем прослушивания в каждой группе."
   ]
  },
  {
   "cell_type": "code",
   "execution_count": 18,
   "metadata": {
    "id": "0_Qs96oh_Zcu"
   },
   "outputs": [
    {
     "data": {
      "text/plain": [
       "city\n",
       "Moscow              42741\n",
       "Saint-Petersburg    18512\n",
       "Name: user_id, dtype: int64"
      ]
     },
     "execution_count": 18,
     "metadata": {},
     "output_type": "execute_result"
    }
   ],
   "source": [
    "# подсчёт прослушиваний в каждом городе\n",
    "df.groupby('city')['user_id'].count() "
   ]
  },
  {
   "cell_type": "markdown",
   "metadata": {
    "id": "dzli3w8o_Zcu"
   },
   "source": [
    "В Москве прослушиваний больше, чем в Петербурге. Из этого не следует, что московские пользователи чаще слушают музыку. Просто самих пользователей в Москве больше.\n",
    "\n",
    "Теперь сгруппируем данные по дню недели и подсчитаем прослушивания в понедельник, среду и пятницу."
   ]
  },
  {
   "cell_type": "code",
   "execution_count": 19,
   "metadata": {
    "id": "uZMKjiJz_Zcu"
   },
   "outputs": [
    {
     "data": {
      "text/plain": [
       "day\n",
       "Friday       21840\n",
       "Monday       21354\n",
       "Wednesday    18059\n",
       "Name: user_id, dtype: int64"
      ]
     },
     "execution_count": 19,
     "metadata": {},
     "output_type": "execute_result"
    }
   ],
   "source": [
    "# подсчёт прослушиваний в каждый из трёх дней\n",
    "df.groupby('day')['user_id'].count() "
   ]
  },
  {
   "cell_type": "markdown",
   "metadata": {
    "id": "cC2tNrlL_Zcu"
   },
   "source": [
    "В среднем пользователи из двух городов менее активны по средам. Но картина может измениться, если рассмотреть каждый город в отдельности."
   ]
  },
  {
   "cell_type": "code",
   "execution_count": 20,
   "metadata": {
    "id": "Nz3GdQB1_Zcu"
   },
   "outputs": [],
   "source": [
    "# функция для подсчёта прослушиваний для конкретного города и дня.\n",
    "def number_tracks(day, city):\n",
    "    track_list = df[df['day'] == day]  \n",
    "    track_list = track_list[track_list['city'] == city] \n",
    "    track_list_count = track_list['user_id'].count() \n",
    "    return track_list_count "
   ]
  },
  {
   "cell_type": "markdown",
   "metadata": {
    "id": "ytf7xFrFJQ2r"
   },
   "source": [
    "Применим функцию `number_tracks()` шесть раз, меняя значение параметров — так, чтобы получить данные для каждого города в каждый из трёх дней."
   ]
  },
  {
   "cell_type": "code",
   "execution_count": 21,
   "metadata": {
    "id": "rJcRATNQ_Zcu"
   },
   "outputs": [
    {
     "data": {
      "text/plain": [
       "15740"
      ]
     },
     "execution_count": 21,
     "metadata": {},
     "output_type": "execute_result"
    }
   ],
   "source": [
    "# количество прослушиваний в Москве по понедельникам\n",
    "number_tracks('Monday','Moscow') "
   ]
  },
  {
   "cell_type": "code",
   "execution_count": 22,
   "metadata": {
    "id": "hq_ncZ5T_Zcu"
   },
   "outputs": [
    {
     "data": {
      "text/plain": [
       "5614"
      ]
     },
     "execution_count": 22,
     "metadata": {},
     "output_type": "execute_result"
    }
   ],
   "source": [
    "# количество прослушиваний в Санкт-Петербурге по понедельникам\n",
    "number_tracks('Monday','Saint-Petersburg') "
   ]
  },
  {
   "cell_type": "code",
   "execution_count": 23,
   "metadata": {
    "id": "_NTy2VPU_Zcu"
   },
   "outputs": [
    {
     "data": {
      "text/plain": [
       "11056"
      ]
     },
     "execution_count": 23,
     "metadata": {},
     "output_type": "execute_result"
    }
   ],
   "source": [
    "# количество прослушиваний в Москве по средам\n",
    "number_tracks('Wednesday','Moscow') "
   ]
  },
  {
   "cell_type": "code",
   "execution_count": 24,
   "metadata": {
    "id": "j2y3TAwo_Zcu"
   },
   "outputs": [
    {
     "data": {
      "text/plain": [
       "7003"
      ]
     },
     "execution_count": 24,
     "metadata": {},
     "output_type": "execute_result"
    }
   ],
   "source": [
    "# количество прослушиваний в Санкт-Петербурге по средам\n",
    "number_tracks('Wednesday','Saint-Petersburg') "
   ]
  },
  {
   "cell_type": "code",
   "execution_count": 25,
   "metadata": {
    "id": "vYDw5u_K_Zcu"
   },
   "outputs": [
    {
     "data": {
      "text/plain": [
       "15945"
      ]
     },
     "execution_count": 25,
     "metadata": {},
     "output_type": "execute_result"
    }
   ],
   "source": [
    "# количество прослушиваний в Москве по пятницам\n",
    "number_tracks('Friday','Moscow') "
   ]
  },
  {
   "cell_type": "code",
   "execution_count": 26,
   "metadata": {
    "id": "8_yzFtW3_Zcu"
   },
   "outputs": [
    {
     "data": {
      "text/plain": [
       "5895"
      ]
     },
     "execution_count": 26,
     "metadata": {},
     "output_type": "execute_result"
    }
   ],
   "source": [
    "# количество прослушиваний в Санкт-Петербурге по пятницам\n",
    "number_tracks('Friday','Saint-Petersburg') "
   ]
  },
  {
   "cell_type": "code",
   "execution_count": 27,
   "metadata": {
    "id": "APAcLpOr_Zcu"
   },
   "outputs": [
    {
     "data": {
      "text/html": [
       "<div>\n",
       "<style scoped>\n",
       "    .dataframe tbody tr th:only-of-type {\n",
       "        vertical-align: middle;\n",
       "    }\n",
       "\n",
       "    .dataframe tbody tr th {\n",
       "        vertical-align: top;\n",
       "    }\n",
       "\n",
       "    .dataframe thead th {\n",
       "        text-align: right;\n",
       "    }\n",
       "</style>\n",
       "<table border=\"1\" class=\"dataframe\">\n",
       "  <thead>\n",
       "    <tr style=\"text-align: right;\">\n",
       "      <th></th>\n",
       "      <th>city</th>\n",
       "      <th>monday</th>\n",
       "      <th>wednesday</th>\n",
       "      <th>friday</th>\n",
       "    </tr>\n",
       "  </thead>\n",
       "  <tbody>\n",
       "    <tr>\n",
       "      <td>0</td>\n",
       "      <td>Moscow</td>\n",
       "      <td>15740</td>\n",
       "      <td>11056</td>\n",
       "      <td>15945</td>\n",
       "    </tr>\n",
       "    <tr>\n",
       "      <td>1</td>\n",
       "      <td>Saint-Petersburg</td>\n",
       "      <td>5614</td>\n",
       "      <td>7003</td>\n",
       "      <td>5895</td>\n",
       "    </tr>\n",
       "  </tbody>\n",
       "</table>\n",
       "</div>"
      ],
      "text/plain": [
       "               city  monday  wednesday  friday\n",
       "0            Moscow   15740      11056   15945\n",
       "1  Saint-Petersburg    5614       7003    5895"
      ]
     },
     "metadata": {},
     "output_type": "display_data"
    }
   ],
   "source": [
    "# создание таблицы с результатами\n",
    "data_list = {\n",
    "    'city':['Moscow', 'Saint-Petersburg'], \n",
    "    'monday':[15740, 5614],\n",
    "    'wednesday':[11056, 7003],\n",
    "    'friday':[15945, 5895]\n",
    "} \n",
    "data_table = pd.DataFrame(data_list)\n",
    "display(data_table)"
   ]
  },
  {
   "cell_type": "markdown",
   "metadata": {
    "id": "-EgPIHYu_Zcu"
   },
   "source": [
    "**Выводы**\n",
    "\n",
    "Данные показывают разницу поведения пользователей:\n",
    "\n",
    "- В Москве пик прослушиваний приходится на понедельник и пятницу, а в среду заметен спад.\n",
    "- В Петербурге, наоборот, больше слушают музыку по средам. Активность в понедельник и пятницу здесь почти в равной мере уступает среде.\n",
    "\n",
    "Значит, данные говорят в пользу первой гипотезы."
   ]
  },
  {
   "cell_type": "markdown",
   "metadata": {
    "id": "atZAxtq4_Zcu"
   },
   "source": [
    "### Музыка в начале и в конце недели"
   ]
  },
  {
   "cell_type": "markdown",
   "metadata": {
    "id": "eXrQqXFH_Zcu"
   },
   "source": [
    "Согласно второй гипотезе, утром в понедельник в Москве преобладают одни жанры, а в Петербурге — другие. Так же и вечером пятницы преобладают разные жанры — в зависимости от города."
   ]
  },
  {
   "cell_type": "markdown",
   "metadata": {
    "id": "S8UcW6Hw_Zcu"
   },
   "source": [
    "Сохраним таблицы с данными в две переменные:\n",
    "* по Москве — в `moscow_general`;\n",
    "* по Санкт-Петербургу — в `spb_general`."
   ]
  },
  {
   "cell_type": "code",
   "execution_count": 28,
   "metadata": {
    "id": "qeaFfM_P_Zcu"
   },
   "outputs": [],
   "source": [
    "moscow_general = df[df['city'] == 'Moscow'] # получение таблицы moscow_general из тех строк таблицы df, \n",
    "                                            # для которых значение в столбце 'city' равно 'Moscow'"
   ]
  },
  {
   "cell_type": "code",
   "execution_count": 29,
   "metadata": {
    "id": "ORaVRKto_Zcu"
   },
   "outputs": [],
   "source": [
    "spb_general = df[df['city'] == 'Saint-Petersburg'] # получение таблицы spb_general из тех строк таблицы df,\n",
    "                                                   # для которых значение в столбце 'city' равно 'Saint-Petersburg'"
   ]
  },
  {
   "cell_type": "markdown",
   "metadata": {
    "id": "MEJV-CX2_Zcu"
   },
   "source": [
    "Создайте функцию `genre_weekday()` с четырьмя параметрами:\n",
    "* таблица (датафрейм) с данными,\n",
    "* день недели,\n",
    "* начальная временная метка в формате 'hh:mm', \n",
    "* последняя временная метка в формате 'hh:mm'.\n",
    "\n",
    "Функция должна вернуть информацию о топ-10 жанров тех треков, которые прослушивали в указанный день, в промежутке между двумя отметками времени."
   ]
  },
  {
   "cell_type": "code",
   "execution_count": 30,
   "metadata": {
    "id": "laJT9BYl_Zcu"
   },
   "outputs": [],
   "source": [
    "# функция, которая возвращает информацию о самых популярных жанрах в указанный день в заданное время\n",
    "def genre_weekday(table, day, time1, time2): \n",
    "   \n",
    "    genre_df = table[table['day'] == day]                                                                   \n",
    "    genre_df = genre_df[genre_df['time'] > time1]\n",
    "    genre_df = genre_df[genre_df['time'] < time2] \n",
    "                                                    \n",
    "    genre_df_count = genre_df.groupby('genre')['user_id'].count()\n",
    "    genre_df_sorted = genre_df_count.sort_values(ascending = False)\n",
    "    return(genre_df_sorted.head(10))"
   ]
  },
  {
   "cell_type": "markdown",
   "metadata": {
    "id": "la2s2_PF_Zcu"
   },
   "source": [
    "Cравним результаты функции `genre_weekday()` для Москвы и Санкт-Петербурга в понедельник утром (с 7:00 до 11:00) и в пятницу вечером (с 17:00 до 23:00):"
   ]
  },
  {
   "cell_type": "code",
   "execution_count": 31,
   "metadata": {
    "id": "yz7itPUQ_Zcu"
   },
   "outputs": [
    {
     "data": {
      "text/plain": [
       "genre\n",
       "pop            781\n",
       "dance          549\n",
       "electronic     480\n",
       "rock           474\n",
       "hiphop         286\n",
       "ruspop         186\n",
       "world          181\n",
       "rusrap         175\n",
       "alternative    164\n",
       "unknown        161\n",
       "Name: user_id, dtype: int64"
      ]
     },
     "execution_count": 31,
     "metadata": {},
     "output_type": "execute_result"
    }
   ],
   "source": [
    "# вызов функции для Москвы (утро)\n",
    "genre_weekday(moscow_general, 'Monday', '07:00', '11:00')"
   ]
  },
  {
   "cell_type": "code",
   "execution_count": 32,
   "metadata": {
    "id": "kwUcHPdy_Zcu"
   },
   "outputs": [
    {
     "data": {
      "text/plain": [
       "genre\n",
       "pop            218\n",
       "dance          182\n",
       "rock           162\n",
       "electronic     147\n",
       "hiphop          80\n",
       "ruspop          64\n",
       "alternative     58\n",
       "rusrap          55\n",
       "jazz            44\n",
       "classical       40\n",
       "Name: user_id, dtype: int64"
      ]
     },
     "execution_count": 32,
     "metadata": {},
     "output_type": "execute_result"
    }
   ],
   "source": [
    "# вызов функции для Санкт-Петербурга (утро)\n",
    "genre_weekday(spb_general, 'Monday', '07:00', '11:00')"
   ]
  },
  {
   "cell_type": "code",
   "execution_count": 33,
   "metadata": {
    "id": "EzXVRE1o_Zcu"
   },
   "outputs": [
    {
     "data": {
      "text/plain": [
       "genre\n",
       "pop            713\n",
       "rock           517\n",
       "dance          495\n",
       "electronic     482\n",
       "hiphop         273\n",
       "world          208\n",
       "ruspop         170\n",
       "alternative    163\n",
       "classical      163\n",
       "rusrap         142\n",
       "Name: user_id, dtype: int64"
      ]
     },
     "execution_count": 33,
     "metadata": {},
     "output_type": "execute_result"
    }
   ],
   "source": [
    "# вызов функции для Москвы (вечер)\n",
    "genre_weekday(moscow_general, 'Friday', '17:00', '23:00')"
   ]
  },
  {
   "cell_type": "code",
   "execution_count": 34,
   "metadata": {
    "id": "JZaEKu5v_Zcu"
   },
   "outputs": [
    {
     "data": {
      "text/plain": [
       "genre\n",
       "pop            256\n",
       "rock           216\n",
       "electronic     216\n",
       "dance          210\n",
       "hiphop          97\n",
       "alternative     63\n",
       "jazz            61\n",
       "classical       60\n",
       "rusrap          59\n",
       "world           54\n",
       "Name: user_id, dtype: int64"
      ]
     },
     "execution_count": 34,
     "metadata": {},
     "output_type": "execute_result"
    }
   ],
   "source": [
    "# вызов функции для Санкт-Петербурга (вечер)\n",
    "genre_weekday(spb_general, 'Friday', '17:00', '23:00')"
   ]
  },
  {
   "cell_type": "markdown",
   "metadata": {
    "id": "wrCe4MNX_Zcu"
   },
   "source": [
    "**Выводы**\n",
    "\n",
    "Если сравнить топ-10 жанров в понедельник утром, можно сделать такие выводы:\n",
    "\n",
    "1. В Москве и Петербурге слушают похожую музыку. Единственное отличие — в московский рейтинг вошёл жанр “world”, а в петербургский — джаз и классика.\n",
    "\n",
    "2. В Москве пропущенных значений оказалось так много, что значение `'unknown'` заняло десятое место среди самых популярных жанров. Значит, пропущенные значения занимают существенную долю в данных и угрожают достоверности исследования.\n",
    "\n",
    "Вечер пятницы не меняет эту картину. Некоторые жанры поднимаются немного выше, другие спускаются, но в целом топ-10 остаётся тем же самым.\n",
    "\n",
    "Таким образом, вторая гипотеза подтвердилась лишь частично:\n",
    "* Пользователи слушают похожую музыку в начале недели и в конце.\n",
    "* Разница между Москвой и Петербургом не слишком выражена. В Москве чаще слушают русскую популярную музыку, в Петербурге — джаз.\n",
    "\n",
    "Однако пропуски в данных ставят под сомнение этот результат. В Москве их так много, что рейтинг топ-10 мог бы выглядеть иначе, если бы не утерянные  данные о жанрах."
   ]
  },
  {
   "cell_type": "markdown",
   "metadata": {
    "id": "JolODAqr_Zcu"
   },
   "source": [
    "### Жанровые предпочтения в Москве и Петербурге\n",
    "\n",
    "Гипотеза: Петербург — столица рэпа, музыку этого жанра там слушают чаще, чем в Москве.  А Москва — город контрастов, в котором, тем не менее, преобладает поп-музыка."
   ]
  },
  {
   "cell_type": "markdown",
   "metadata": {
    "id": "DlegSvaT_Zcu"
   },
   "source": [
    "Сгруппируем таблицу `moscow_general` по жанру и посчитаем прослушивания треков каждого жанра методом `count()`. Затем отсортируем результат в порядке убывания и сохраним его в таблице `moscow_genres`."
   ]
  },
  {
   "cell_type": "code",
   "execution_count": 35,
   "metadata": {
    "id": "r19lIPke_Zcu"
   },
   "outputs": [],
   "source": [
    "# таблица количества треков по жанрам для Москвы\n",
    "moscow_genres = moscow_general.groupby('genre')['genre'].count().sort_values(ascending = False)"
   ]
  },
  {
   "cell_type": "code",
   "execution_count": 36,
   "metadata": {
    "id": "WhCSooF8_Zcv"
   },
   "outputs": [
    {
     "data": {
      "text/plain": [
       "genre\n",
       "pop            5892\n",
       "dance          4435\n",
       "rock           3965\n",
       "electronic     3786\n",
       "hiphop         2096\n",
       "classical      1616\n",
       "world          1432\n",
       "alternative    1379\n",
       "ruspop         1372\n",
       "rusrap         1161\n",
       "Name: genre, dtype: int64"
      ]
     },
     "execution_count": 36,
     "metadata": {},
     "output_type": "execute_result"
    }
   ],
   "source": [
    "# просмотр первых строк таблицы\n",
    "moscow_genres.head(10)"
   ]
  },
  {
   "cell_type": "markdown",
   "metadata": {
    "id": "cnPG2vnN_Zcv"
   },
   "source": [
    "То же проделяем для Петербурга."
   ]
  },
  {
   "cell_type": "code",
   "execution_count": 37,
   "metadata": {
    "id": "gluLIpE7_Zcv"
   },
   "outputs": [],
   "source": [
    "# таблица количества треков по жанрам для Санкт-Петербурга\n",
    "spb_genres = spb_general.groupby('genre')['genre'].count().sort_values(ascending = False)"
   ]
  },
  {
   "cell_type": "code",
   "execution_count": 38,
   "metadata": {
    "id": "uaGJHjVU_Zcv"
   },
   "outputs": [
    {
     "data": {
      "text/plain": [
       "genre\n",
       "pop            2431\n",
       "dance          1932\n",
       "rock           1879\n",
       "electronic     1736\n",
       "hiphop          960\n",
       "alternative     649\n",
       "classical       646\n",
       "rusrap          564\n",
       "ruspop          538\n",
       "world           515\n",
       "Name: genre, dtype: int64"
      ]
     },
     "execution_count": 38,
     "metadata": {},
     "output_type": "execute_result"
    }
   ],
   "source": [
    "# просмотр первых строк таблицы\n",
    "spb_genres.head(10)"
   ]
  },
  {
   "cell_type": "markdown",
   "metadata": {
    "id": "RY51YJYu_Zcv"
   },
   "source": [
    "**Выводы**"
   ]
  },
  {
   "cell_type": "markdown",
   "metadata": {
    "id": "nVhnJEm__Zcv"
   },
   "source": [
    "Гипотеза частично подтвердилась:\n",
    "* Поп-музыка — самый популярный жанр в Москве, как и предполагала гипотеза. Более того, в топ-10 жанров встречается близкий жанр — русская популярная музыка.\n",
    "* Вопреки ожиданиям, рэп одинаково популярен в Москве и Петербурге. \n"
   ]
  },
  {
   "cell_type": "markdown",
   "metadata": {
    "id": "ykKQ0N65_Zcv"
   },
   "source": [
    "## Итоги исследования"
   ]
  },
  {
   "cell_type": "markdown",
   "metadata": {
    "id": "tjUwbHb3_Zcv"
   },
   "source": [
    "Мы проверили три гипотезы и установили:\n",
    "\n",
    "1. День недели по-разному влияет на активность пользователей в Москве и Петербурге. \n",
    "\n",
    "Первая гипотеза полностью подтвердилась.\n",
    "\n",
    "2. Музыкальные предпочтения не сильно меняются в течение недели — будь то Москва или Петербург. Небольшие различия заметны в начале недели, по понедельникам:\n",
    "* в Москве слушают музыку жанра “world”,\n",
    "* в Петербурге — джаз и классику.\n",
    "\n",
    "Таким образом, вторая гипотеза подтвердилась лишь отчасти. Этот результат мог оказаться иным, если бы не пропуски в данных.\n",
    "\n",
    "3. Во вкусах пользователей Москвы и Петербурга больше общего чем различий. Вопреки ожиданиям, предпочтения жанров в Петербурге напоминают московские.\n",
    "\n",
    "Третья гипотеза не подтвердилась. Если различия в предпочтениях и существуют, на основной массе пользователей они незаметны."
   ]
  }
 ],
 "metadata": {
  "ExecuteTimeLog": [
   {
    "duration": 459,
    "start_time": "2021-09-25T06:43:03.102Z"
   },
   {
    "duration": 387,
    "start_time": "2021-09-25T06:44:03.937Z"
   },
   {
    "duration": 867,
    "start_time": "2021-09-25T06:44:18.595Z"
   },
   {
    "duration": 194,
    "start_time": "2021-09-25T06:45:36.809Z"
   },
   {
    "duration": 202,
    "start_time": "2021-09-25T06:45:45.057Z"
   },
   {
    "duration": 10,
    "start_time": "2021-09-25T06:45:49.536Z"
   },
   {
    "duration": 211,
    "start_time": "2021-09-25T06:46:39.470Z"
   },
   {
    "duration": 10,
    "start_time": "2021-09-25T06:46:44.089Z"
   },
   {
    "duration": 12,
    "start_time": "2021-09-25T06:47:23.281Z"
   },
   {
    "duration": 37,
    "start_time": "2021-09-25T06:48:55.552Z"
   },
   {
    "duration": 475,
    "start_time": "2021-09-25T06:55:59.384Z"
   },
   {
    "duration": 31,
    "start_time": "2021-09-25T06:56:15.368Z"
   },
   {
    "duration": 14,
    "start_time": "2021-09-25T06:56:28.220Z"
   },
   {
    "duration": 6,
    "start_time": "2021-09-25T07:23:48.491Z"
   },
   {
    "duration": 7,
    "start_time": "2021-09-25T07:24:06.171Z"
   },
   {
    "duration": 6,
    "start_time": "2021-09-25T07:24:15.114Z"
   },
   {
    "duration": 6,
    "start_time": "2021-09-25T07:24:51.272Z"
   },
   {
    "duration": 6,
    "start_time": "2021-09-25T07:31:53.599Z"
   },
   {
    "duration": 31,
    "start_time": "2021-09-25T07:32:11.893Z"
   },
   {
    "duration": 6,
    "start_time": "2021-09-25T07:32:16.497Z"
   },
   {
    "duration": 34,
    "start_time": "2021-09-25T07:33:24.030Z"
   },
   {
    "duration": 126,
    "start_time": "2021-09-25T07:42:20.991Z"
   },
   {
    "duration": 364,
    "start_time": "2021-09-25T07:42:31.372Z"
   },
   {
    "duration": 355,
    "start_time": "2021-09-25T07:43:25.998Z"
   },
   {
    "duration": 26,
    "start_time": "2021-09-25T07:45:11.295Z"
   },
   {
    "duration": 33,
    "start_time": "2021-09-25T07:45:26.781Z"
   },
   {
    "duration": 27,
    "start_time": "2021-09-25T07:45:55.293Z"
   },
   {
    "duration": 21,
    "start_time": "2021-09-25T07:46:06.621Z"
   },
   {
    "duration": 33,
    "start_time": "2021-09-25T07:46:08.603Z"
   },
   {
    "duration": 33,
    "start_time": "2021-09-25T07:46:20.045Z"
   },
   {
    "duration": 22,
    "start_time": "2021-09-25T07:46:44.524Z"
   },
   {
    "duration": 31,
    "start_time": "2021-09-25T07:46:47.171Z"
   },
   {
    "duration": 26,
    "start_time": "2021-09-25T07:47:41.195Z"
   },
   {
    "duration": 24,
    "start_time": "2021-09-25T07:47:48.460Z"
   },
   {
    "duration": 31,
    "start_time": "2021-09-25T07:47:51.018Z"
   },
   {
    "duration": 24,
    "start_time": "2021-09-25T07:48:21.371Z"
   },
   {
    "duration": 32,
    "start_time": "2021-09-25T07:48:23.498Z"
   },
   {
    "duration": 22,
    "start_time": "2021-09-25T07:48:54.667Z"
   },
   {
    "duration": 31,
    "start_time": "2021-09-25T07:48:56.937Z"
   },
   {
    "duration": 23,
    "start_time": "2021-09-25T07:52:11.895Z"
   },
   {
    "duration": 31,
    "start_time": "2021-09-25T07:52:15.211Z"
   },
   {
    "duration": 22,
    "start_time": "2021-09-25T07:54:44.952Z"
   },
   {
    "duration": 32,
    "start_time": "2021-09-25T07:54:47.511Z"
   },
   {
    "duration": 33,
    "start_time": "2021-09-25T07:55:12.519Z"
   },
   {
    "duration": 23,
    "start_time": "2021-09-25T07:56:25.959Z"
   },
   {
    "duration": 31,
    "start_time": "2021-09-25T07:56:28.406Z"
   },
   {
    "duration": 32,
    "start_time": "2021-09-25T07:56:33.254Z"
   },
   {
    "duration": 32,
    "start_time": "2021-09-25T07:56:37.093Z"
   },
   {
    "duration": 366,
    "start_time": "2021-09-25T07:56:45.733Z"
   },
   {
    "duration": 23,
    "start_time": "2021-09-25T07:56:54.951Z"
   },
   {
    "duration": 32,
    "start_time": "2021-09-25T07:56:57.605Z"
   },
   {
    "duration": 23,
    "start_time": "2021-09-25T07:57:08.246Z"
   },
   {
    "duration": 31,
    "start_time": "2021-09-25T07:57:10.565Z"
   },
   {
    "duration": 19,
    "start_time": "2021-09-25T08:01:52.724Z"
   },
   {
    "duration": 36,
    "start_time": "2021-09-25T08:01:55.554Z"
   },
   {
    "duration": 32,
    "start_time": "2021-09-25T08:02:15.651Z"
   },
   {
    "duration": 4,
    "start_time": "2021-09-25T08:02:41.553Z"
   },
   {
    "duration": 31,
    "start_time": "2021-09-25T08:02:44.741Z"
   },
   {
    "duration": 3,
    "start_time": "2021-09-25T08:02:58.244Z"
   },
   {
    "duration": 36,
    "start_time": "2021-09-25T08:03:01.970Z"
   },
   {
    "duration": 22,
    "start_time": "2021-09-25T08:03:35.507Z"
   },
   {
    "duration": 31,
    "start_time": "2021-09-25T08:03:41.682Z"
   },
   {
    "duration": 3,
    "start_time": "2021-09-25T08:04:02.147Z"
   },
   {
    "duration": 12,
    "start_time": "2021-09-25T08:04:33.745Z"
   },
   {
    "duration": 31,
    "start_time": "2021-09-25T08:04:35.969Z"
   },
   {
    "duration": 31,
    "start_time": "2021-09-25T08:05:03.873Z"
   },
   {
    "duration": 3,
    "start_time": "2021-09-25T08:05:46.268Z"
   },
   {
    "duration": 205,
    "start_time": "2021-09-25T08:05:46.275Z"
   },
   {
    "duration": 10,
    "start_time": "2021-09-25T08:05:46.484Z"
   },
   {
    "duration": 38,
    "start_time": "2021-09-25T08:05:46.497Z"
   },
   {
    "duration": 31,
    "start_time": "2021-09-25T08:05:46.538Z"
   },
   {
    "duration": 27,
    "start_time": "2021-09-25T08:05:46.572Z"
   },
   {
    "duration": 7,
    "start_time": "2021-09-25T08:05:46.601Z"
   },
   {
    "duration": 35,
    "start_time": "2021-09-25T08:05:49.536Z"
   },
   {
    "duration": 4,
    "start_time": "2021-09-25T08:06:01.148Z"
   },
   {
    "duration": 219,
    "start_time": "2021-09-25T08:06:01.155Z"
   },
   {
    "duration": 10,
    "start_time": "2021-09-25T08:06:01.377Z"
   },
   {
    "duration": 69,
    "start_time": "2021-09-25T08:06:01.390Z"
   },
   {
    "duration": 22,
    "start_time": "2021-09-25T08:06:01.462Z"
   },
   {
    "duration": 33,
    "start_time": "2021-09-25T08:06:01.486Z"
   },
   {
    "duration": 24,
    "start_time": "2021-09-25T08:06:01.522Z"
   },
   {
    "duration": 55,
    "start_time": "2021-09-25T08:06:01.549Z"
   },
   {
    "duration": 26,
    "start_time": "2021-09-25T08:06:01.607Z"
   },
   {
    "duration": 4,
    "start_time": "2021-09-25T08:06:23.571Z"
   },
   {
    "duration": 203,
    "start_time": "2021-09-25T08:06:23.578Z"
   },
   {
    "duration": 10,
    "start_time": "2021-09-25T08:06:23.784Z"
   },
   {
    "duration": 49,
    "start_time": "2021-09-25T08:06:23.797Z"
   },
   {
    "duration": 19,
    "start_time": "2021-09-25T08:06:23.849Z"
   },
   {
    "duration": 25,
    "start_time": "2021-09-25T08:06:23.871Z"
   },
   {
    "duration": 8,
    "start_time": "2021-09-25T08:06:23.899Z"
   },
   {
    "duration": 69,
    "start_time": "2021-09-25T08:06:23.910Z"
   },
   {
    "duration": 4,
    "start_time": "2021-09-25T08:06:23.982Z"
   },
   {
    "duration": 4,
    "start_time": "2021-09-25T08:06:33.477Z"
   },
   {
    "duration": 202,
    "start_time": "2021-09-25T08:06:33.484Z"
   },
   {
    "duration": 10,
    "start_time": "2021-09-25T08:06:33.690Z"
   },
   {
    "duration": 64,
    "start_time": "2021-09-25T08:06:33.704Z"
   },
   {
    "duration": 7,
    "start_time": "2021-09-25T08:06:33.771Z"
   },
   {
    "duration": 22,
    "start_time": "2021-09-25T08:06:33.781Z"
   },
   {
    "duration": 7,
    "start_time": "2021-09-25T08:06:33.805Z"
   },
   {
    "duration": 79,
    "start_time": "2021-09-25T08:06:33.816Z"
   },
   {
    "duration": 10,
    "start_time": "2021-09-25T08:06:33.898Z"
   },
   {
    "duration": 3,
    "start_time": "2021-09-25T08:06:50.522Z"
   },
   {
    "duration": 197,
    "start_time": "2021-09-25T08:06:50.528Z"
   },
   {
    "duration": 10,
    "start_time": "2021-09-25T08:06:50.728Z"
   },
   {
    "duration": 52,
    "start_time": "2021-09-25T08:06:50.741Z"
   },
   {
    "duration": 7,
    "start_time": "2021-09-25T08:06:50.796Z"
   },
   {
    "duration": 20,
    "start_time": "2021-09-25T08:06:50.806Z"
   },
   {
    "duration": 6,
    "start_time": "2021-09-25T08:06:50.829Z"
   },
   {
    "duration": 60,
    "start_time": "2021-09-25T08:06:50.837Z"
   },
   {
    "duration": 4,
    "start_time": "2021-09-25T08:07:17.611Z"
   },
   {
    "duration": 193,
    "start_time": "2021-09-25T08:07:17.617Z"
   },
   {
    "duration": 9,
    "start_time": "2021-09-25T08:07:17.813Z"
   },
   {
    "duration": 51,
    "start_time": "2021-09-25T08:07:17.825Z"
   },
   {
    "duration": 9,
    "start_time": "2021-09-25T08:07:17.879Z"
   },
   {
    "duration": 25,
    "start_time": "2021-09-25T08:07:17.891Z"
   },
   {
    "duration": 7,
    "start_time": "2021-09-25T08:07:17.918Z"
   },
   {
    "duration": 63,
    "start_time": "2021-09-25T08:07:17.928Z"
   },
   {
    "duration": 6,
    "start_time": "2021-09-25T08:07:17.994Z"
   },
   {
    "duration": 3,
    "start_time": "2021-09-25T08:07:36.810Z"
   },
   {
    "duration": 198,
    "start_time": "2021-09-25T08:07:36.816Z"
   },
   {
    "duration": 11,
    "start_time": "2021-09-25T08:07:37.017Z"
   },
   {
    "duration": 56,
    "start_time": "2021-09-25T08:07:37.031Z"
   },
   {
    "duration": 6,
    "start_time": "2021-09-25T08:07:37.089Z"
   },
   {
    "duration": 23,
    "start_time": "2021-09-25T08:07:37.097Z"
   },
   {
    "duration": 7,
    "start_time": "2021-09-25T08:07:37.123Z"
   },
   {
    "duration": 33,
    "start_time": "2021-09-25T08:07:37.167Z"
   },
   {
    "duration": 2,
    "start_time": "2021-09-25T08:07:37.203Z"
   },
   {
    "duration": 4,
    "start_time": "2021-09-25T08:08:14.940Z"
   },
   {
    "duration": 229,
    "start_time": "2021-09-25T08:08:14.950Z"
   },
   {
    "duration": 10,
    "start_time": "2021-09-25T08:08:15.182Z"
   },
   {
    "duration": 49,
    "start_time": "2021-09-25T08:08:15.195Z"
   },
   {
    "duration": 26,
    "start_time": "2021-09-25T08:08:15.247Z"
   },
   {
    "duration": 34,
    "start_time": "2021-09-25T08:08:15.276Z"
   },
   {
    "duration": 11,
    "start_time": "2021-09-25T08:08:15.312Z"
   },
   {
    "duration": 79,
    "start_time": "2021-09-25T08:08:15.326Z"
   },
   {
    "duration": 21,
    "start_time": "2021-09-25T08:08:15.408Z"
   },
   {
    "duration": 4,
    "start_time": "2021-09-25T08:08:33.622Z"
   },
   {
    "duration": 317,
    "start_time": "2021-09-25T08:08:33.629Z"
   },
   {
    "duration": 23,
    "start_time": "2021-09-25T08:08:33.950Z"
   },
   {
    "duration": 58,
    "start_time": "2021-09-25T08:08:33.977Z"
   },
   {
    "duration": 28,
    "start_time": "2021-09-25T08:08:34.039Z"
   },
   {
    "duration": 33,
    "start_time": "2021-09-25T08:08:34.071Z"
   },
   {
    "duration": 8,
    "start_time": "2021-09-25T08:08:34.109Z"
   },
   {
    "duration": 84,
    "start_time": "2021-09-25T08:08:34.121Z"
   },
   {
    "duration": 33,
    "start_time": "2021-09-25T08:08:34.208Z"
   },
   {
    "duration": 4,
    "start_time": "2021-09-25T08:08:44.837Z"
   },
   {
    "duration": 233,
    "start_time": "2021-09-25T08:08:44.845Z"
   },
   {
    "duration": 10,
    "start_time": "2021-09-25T08:08:45.081Z"
   },
   {
    "duration": 44,
    "start_time": "2021-09-25T08:08:45.094Z"
   },
   {
    "duration": 28,
    "start_time": "2021-09-25T08:08:45.141Z"
   },
   {
    "duration": 19,
    "start_time": "2021-09-25T08:08:45.172Z"
   },
   {
    "duration": 6,
    "start_time": "2021-09-25T08:08:45.195Z"
   },
   {
    "duration": 66,
    "start_time": "2021-09-25T08:08:45.204Z"
   },
   {
    "duration": 29,
    "start_time": "2021-09-25T08:08:45.273Z"
   },
   {
    "duration": 34,
    "start_time": "2021-09-25T08:08:45.304Z"
   },
   {
    "duration": 30,
    "start_time": "2021-09-25T08:08:45.341Z"
   },
   {
    "duration": 7,
    "start_time": "2021-09-25T08:08:45.374Z"
   },
   {
    "duration": 5,
    "start_time": "2021-09-25T08:08:45.384Z"
   },
   {
    "duration": 7,
    "start_time": "2021-09-25T08:08:45.392Z"
   },
   {
    "duration": 10,
    "start_time": "2021-09-25T08:08:45.401Z"
   },
   {
    "duration": 9,
    "start_time": "2021-09-25T08:08:45.414Z"
   },
   {
    "duration": 6,
    "start_time": "2021-09-25T08:08:45.426Z"
   },
   {
    "duration": 33,
    "start_time": "2021-09-25T08:08:45.435Z"
   },
   {
    "duration": 7,
    "start_time": "2021-09-25T08:08:45.475Z"
   },
   {
    "duration": 6,
    "start_time": "2021-09-25T08:08:45.486Z"
   },
   {
    "duration": 5,
    "start_time": "2021-09-25T08:08:45.495Z"
   },
   {
    "duration": 5,
    "start_time": "2021-09-25T08:08:45.504Z"
   },
   {
    "duration": 8,
    "start_time": "2021-09-25T08:08:45.512Z"
   },
   {
    "duration": 48,
    "start_time": "2021-09-25T08:08:45.523Z"
   },
   {
    "duration": 8,
    "start_time": "2021-09-25T08:08:45.573Z"
   },
   {
    "duration": 7,
    "start_time": "2021-09-25T08:08:45.583Z"
   },
   {
    "duration": 9,
    "start_time": "2021-09-25T08:08:45.593Z"
   },
   {
    "duration": 5,
    "start_time": "2021-09-25T08:08:45.605Z"
   },
   {
    "duration": 5,
    "start_time": "2021-09-25T08:08:45.613Z"
   },
   {
    "duration": 46,
    "start_time": "2021-09-25T08:08:45.621Z"
   },
   {
    "duration": 9,
    "start_time": "2021-09-25T08:08:45.670Z"
   },
   {
    "duration": 5,
    "start_time": "2021-09-25T08:08:45.682Z"
   },
   {
    "duration": 13,
    "start_time": "2021-09-25T08:08:45.690Z"
   },
   {
    "duration": 9,
    "start_time": "2021-09-25T08:08:45.705Z"
   },
   {
    "duration": 13,
    "start_time": "2021-09-25T08:08:45.717Z"
   },
   {
    "duration": 40,
    "start_time": "2021-09-25T08:08:45.732Z"
   },
   {
    "duration": 7,
    "start_time": "2021-09-25T08:08:45.775Z"
   },
   {
    "duration": 11,
    "start_time": "2021-09-25T08:08:45.787Z"
   },
   {
    "duration": 3,
    "start_time": "2021-09-25T08:09:00.236Z"
   },
   {
    "duration": 199,
    "start_time": "2021-09-25T08:09:00.244Z"
   },
   {
    "duration": 9,
    "start_time": "2021-09-25T08:09:00.446Z"
   },
   {
    "duration": 46,
    "start_time": "2021-09-25T08:09:00.458Z"
   },
   {
    "duration": 25,
    "start_time": "2021-09-25T08:09:00.507Z"
   },
   {
    "duration": 40,
    "start_time": "2021-09-25T08:09:00.535Z"
   },
   {
    "duration": 22,
    "start_time": "2021-09-25T08:09:00.578Z"
   },
   {
    "duration": 62,
    "start_time": "2021-09-25T08:09:00.603Z"
   },
   {
    "duration": 59,
    "start_time": "2021-09-25T08:09:00.669Z"
   },
   {
    "duration": 40,
    "start_time": "2021-09-25T08:09:40.018Z"
   },
   {
    "duration": 5,
    "start_time": "2021-09-25T08:09:43.652Z"
   },
   {
    "duration": 193,
    "start_time": "2021-09-25T08:09:43.660Z"
   },
   {
    "duration": 14,
    "start_time": "2021-09-25T08:09:43.856Z"
   },
   {
    "duration": 37,
    "start_time": "2021-09-25T08:09:43.873Z"
   },
   {
    "duration": 6,
    "start_time": "2021-09-25T08:09:43.913Z"
   },
   {
    "duration": 56,
    "start_time": "2021-09-25T08:09:43.921Z"
   },
   {
    "duration": 5,
    "start_time": "2021-09-25T08:09:43.979Z"
   },
   {
    "duration": 42,
    "start_time": "2021-09-25T08:09:43.987Z"
   },
   {
    "duration": 46,
    "start_time": "2021-09-25T08:09:44.032Z"
   },
   {
    "duration": 9835,
    "start_time": "2021-09-25T08:10:16.259Z"
   },
   {
    "duration": -106,
    "start_time": "2021-09-25T08:10:26.204Z"
   },
   {
    "duration": 24,
    "start_time": "2021-09-25T08:10:50.676Z"
   },
   {
    "duration": 32,
    "start_time": "2021-09-25T08:10:54.418Z"
   },
   {
    "duration": 88,
    "start_time": "2021-09-25T08:11:42.544Z"
   },
   {
    "duration": 117,
    "start_time": "2021-09-25T08:13:02.065Z"
   },
   {
    "duration": 87,
    "start_time": "2021-09-25T08:13:53.712Z"
   },
   {
    "duration": 4,
    "start_time": "2021-09-25T08:14:03.681Z"
   },
   {
    "duration": 203,
    "start_time": "2021-09-25T08:14:03.691Z"
   },
   {
    "duration": 11,
    "start_time": "2021-09-25T08:14:03.897Z"
   },
   {
    "duration": 60,
    "start_time": "2021-09-25T08:14:03.913Z"
   },
   {
    "duration": 8,
    "start_time": "2021-09-25T08:14:03.976Z"
   },
   {
    "duration": 47,
    "start_time": "2021-09-25T08:14:03.987Z"
   },
   {
    "duration": 12,
    "start_time": "2021-09-25T08:14:04.036Z"
   },
   {
    "duration": 45,
    "start_time": "2021-09-25T08:14:04.050Z"
   },
   {
    "duration": 32,
    "start_time": "2021-09-25T08:14:04.098Z"
   },
   {
    "duration": 44,
    "start_time": "2021-09-25T08:14:04.134Z"
   },
   {
    "duration": 109,
    "start_time": "2021-09-25T08:14:04.181Z"
   },
   {
    "duration": 126,
    "start_time": "2021-09-25T08:14:04.292Z"
   },
   {
    "duration": 108,
    "start_time": "2021-09-25T08:14:19.217Z"
   },
   {
    "duration": 100,
    "start_time": "2021-09-25T08:14:24.191Z"
   },
   {
    "duration": 84,
    "start_time": "2021-09-25T08:14:28.655Z"
   },
   {
    "duration": 99,
    "start_time": "2021-09-25T08:14:40.800Z"
   },
   {
    "duration": 109,
    "start_time": "2021-09-25T08:14:51.087Z"
   },
   {
    "duration": 107,
    "start_time": "2021-09-25T08:16:22.320Z"
   },
   {
    "duration": 111,
    "start_time": "2021-09-25T08:16:24.974Z"
   },
   {
    "duration": 120,
    "start_time": "2021-09-25T08:16:37.966Z"
   },
   {
    "duration": 109,
    "start_time": "2021-09-25T08:16:45.967Z"
   },
   {
    "duration": 84,
    "start_time": "2021-09-25T08:16:48.494Z"
   },
   {
    "duration": 60,
    "start_time": "2021-09-25T08:43:56.592Z"
   },
   {
    "duration": 96,
    "start_time": "2021-09-25T08:44:18.479Z"
   },
   {
    "duration": 4,
    "start_time": "2021-09-25T08:58:57.238Z"
   },
   {
    "duration": 14,
    "start_time": "2021-09-25T08:58:59.236Z"
   },
   {
    "duration": 59,
    "start_time": "2021-09-25T09:00:07.491Z"
   },
   {
    "duration": 309,
    "start_time": "2021-09-26T09:56:12.211Z"
   },
   {
    "duration": 271,
    "start_time": "2021-09-26T09:56:37.727Z"
   },
   {
    "duration": 684,
    "start_time": "2021-09-26T09:57:13.842Z"
   },
   {
    "duration": 147,
    "start_time": "2021-09-26T09:57:14.528Z"
   },
   {
    "duration": 7,
    "start_time": "2021-09-26T09:57:14.678Z"
   },
   {
    "duration": 31,
    "start_time": "2021-09-26T09:57:14.687Z"
   },
   {
    "duration": 9,
    "start_time": "2021-09-26T09:57:14.719Z"
   },
   {
    "duration": 29,
    "start_time": "2021-09-26T09:57:14.744Z"
   },
   {
    "duration": 4,
    "start_time": "2021-09-26T09:57:14.775Z"
   },
   {
    "duration": 24,
    "start_time": "2021-09-26T09:57:14.783Z"
   },
   {
    "duration": 37,
    "start_time": "2021-09-26T09:57:14.809Z"
   },
   {
    "duration": 22,
    "start_time": "2021-09-26T09:57:14.848Z"
   },
   {
    "duration": 75,
    "start_time": "2021-09-26T09:57:14.872Z"
   },
   {
    "duration": 70,
    "start_time": "2021-09-26T09:57:14.948Z"
   },
   {
    "duration": 66,
    "start_time": "2021-09-26T09:57:15.020Z"
   },
   {
    "duration": 41,
    "start_time": "2021-09-26T09:57:15.087Z"
   },
   {
    "duration": 16,
    "start_time": "2021-09-26T09:57:15.130Z"
   },
   {
    "duration": 14,
    "start_time": "2021-09-26T09:57:15.147Z"
   },
   {
    "duration": 43,
    "start_time": "2021-09-26T09:57:15.163Z"
   },
   {
    "duration": 32,
    "start_time": "2021-09-26T09:57:17.268Z"
   },
   {
    "duration": 315,
    "start_time": "2021-09-26T09:58:43.272Z"
   },
   {
    "duration": 31,
    "start_time": "2021-09-26T09:58:55.493Z"
   },
   {
    "duration": 11,
    "start_time": "2021-09-26T09:59:10.709Z"
   },
   {
    "duration": 370,
    "start_time": "2021-09-26T10:00:25.570Z"
   },
   {
    "duration": 34,
    "start_time": "2021-09-26T10:00:32.803Z"
   },
   {
    "duration": 12,
    "start_time": "2021-09-26T10:01:01.283Z"
   },
   {
    "duration": 3,
    "start_time": "2021-09-26T10:11:48.748Z"
   },
   {
    "duration": 21,
    "start_time": "2021-09-26T10:12:34.593Z"
   },
   {
    "duration": 19,
    "start_time": "2021-09-26T10:13:04.782Z"
   },
   {
    "duration": 24,
    "start_time": "2021-09-26T10:13:31.839Z"
   },
   {
    "duration": 269,
    "start_time": "2021-09-26T10:15:06.810Z"
   },
   {
    "duration": 21,
    "start_time": "2021-09-26T10:15:18.493Z"
   },
   {
    "duration": 22,
    "start_time": "2021-09-26T10:16:07.105Z"
   },
   {
    "duration": 2,
    "start_time": "2021-09-26T10:16:21.594Z"
   },
   {
    "duration": 154,
    "start_time": "2021-09-26T10:16:21.600Z"
   },
   {
    "duration": 6,
    "start_time": "2021-09-26T10:16:21.756Z"
   },
   {
    "duration": 33,
    "start_time": "2021-09-26T10:16:21.764Z"
   },
   {
    "duration": 19,
    "start_time": "2021-09-26T10:16:21.798Z"
   },
   {
    "duration": 27,
    "start_time": "2021-09-26T10:16:21.819Z"
   },
   {
    "duration": 10,
    "start_time": "2021-09-26T10:16:21.848Z"
   },
   {
    "duration": 35,
    "start_time": "2021-09-26T10:16:21.860Z"
   },
   {
    "duration": 23,
    "start_time": "2021-09-26T10:16:21.898Z"
   },
   {
    "duration": 27,
    "start_time": "2021-09-26T10:16:21.923Z"
   },
   {
    "duration": 71,
    "start_time": "2021-09-26T10:16:21.952Z"
   },
   {
    "duration": 60,
    "start_time": "2021-09-26T10:16:22.025Z"
   },
   {
    "duration": 48,
    "start_time": "2021-09-26T10:16:22.087Z"
   },
   {
    "duration": 44,
    "start_time": "2021-09-26T10:16:22.137Z"
   },
   {
    "duration": 4,
    "start_time": "2021-09-26T10:16:22.182Z"
   },
   {
    "duration": 26,
    "start_time": "2021-09-26T10:16:22.188Z"
   },
   {
    "duration": 51,
    "start_time": "2021-09-26T10:16:22.216Z"
   },
   {
    "duration": 15,
    "start_time": "2021-09-26T10:16:22.268Z"
   },
   {
    "duration": 20,
    "start_time": "2021-09-26T10:16:22.285Z"
   },
   {
    "duration": 18,
    "start_time": "2021-09-26T10:16:22.306Z"
   },
   {
    "duration": 22,
    "start_time": "2021-09-26T10:16:24.558Z"
   },
   {
    "duration": 4,
    "start_time": "2021-09-26T10:16:52.480Z"
   },
   {
    "duration": 25,
    "start_time": "2021-09-26T10:16:55.109Z"
   },
   {
    "duration": 3,
    "start_time": "2021-09-26T10:17:49.042Z"
   },
   {
    "duration": 154,
    "start_time": "2021-09-26T10:17:49.047Z"
   },
   {
    "duration": 6,
    "start_time": "2021-09-26T10:17:49.203Z"
   },
   {
    "duration": 41,
    "start_time": "2021-09-26T10:17:49.211Z"
   },
   {
    "duration": 12,
    "start_time": "2021-09-26T10:17:49.253Z"
   },
   {
    "duration": 36,
    "start_time": "2021-09-26T10:17:49.267Z"
   },
   {
    "duration": 4,
    "start_time": "2021-09-26T10:17:49.305Z"
   },
   {
    "duration": 55,
    "start_time": "2021-09-26T10:17:49.311Z"
   },
   {
    "duration": 47,
    "start_time": "2021-09-26T10:17:49.369Z"
   },
   {
    "duration": 43,
    "start_time": "2021-09-26T10:17:49.418Z"
   },
   {
    "duration": 79,
    "start_time": "2021-09-26T10:17:49.463Z"
   },
   {
    "duration": 60,
    "start_time": "2021-09-26T10:17:49.543Z"
   },
   {
    "duration": 53,
    "start_time": "2021-09-26T10:17:49.604Z"
   },
   {
    "duration": 40,
    "start_time": "2021-09-26T10:17:49.658Z"
   },
   {
    "duration": 10,
    "start_time": "2021-09-26T10:17:49.700Z"
   },
   {
    "duration": 34,
    "start_time": "2021-09-26T10:17:49.712Z"
   },
   {
    "duration": 56,
    "start_time": "2021-09-26T10:17:49.748Z"
   },
   {
    "duration": 28,
    "start_time": "2021-09-26T10:17:49.806Z"
   },
   {
    "duration": 34,
    "start_time": "2021-09-26T10:17:49.835Z"
   },
   {
    "duration": 34,
    "start_time": "2021-09-26T10:17:49.871Z"
   },
   {
    "duration": 25,
    "start_time": "2021-09-26T10:17:51.130Z"
   },
   {
    "duration": 2,
    "start_time": "2021-09-26T10:18:22.760Z"
   },
   {
    "duration": 148,
    "start_time": "2021-09-26T10:18:22.766Z"
   },
   {
    "duration": 6,
    "start_time": "2021-09-26T10:18:22.916Z"
   },
   {
    "duration": 28,
    "start_time": "2021-09-26T10:18:22.924Z"
   },
   {
    "duration": 3,
    "start_time": "2021-09-26T10:18:22.954Z"
   },
   {
    "duration": 17,
    "start_time": "2021-09-26T10:18:22.959Z"
   },
   {
    "duration": 3,
    "start_time": "2021-09-26T10:18:22.978Z"
   },
   {
    "duration": 26,
    "start_time": "2021-09-26T10:18:22.983Z"
   },
   {
    "duration": 45,
    "start_time": "2021-09-26T10:18:23.011Z"
   },
   {
    "duration": 22,
    "start_time": "2021-09-26T10:18:23.058Z"
   },
   {
    "duration": 71,
    "start_time": "2021-09-26T10:18:23.081Z"
   },
   {
    "duration": 64,
    "start_time": "2021-09-26T10:18:23.153Z"
   },
   {
    "duration": 64,
    "start_time": "2021-09-26T10:18:23.219Z"
   },
   {
    "duration": 39,
    "start_time": "2021-09-26T10:18:23.285Z"
   },
   {
    "duration": 3,
    "start_time": "2021-09-26T10:18:23.325Z"
   },
   {
    "duration": 21,
    "start_time": "2021-09-26T10:18:23.330Z"
   },
   {
    "duration": 41,
    "start_time": "2021-09-26T10:18:23.353Z"
   },
   {
    "duration": 13,
    "start_time": "2021-09-26T10:18:23.395Z"
   },
   {
    "duration": 41,
    "start_time": "2021-09-26T10:18:23.410Z"
   },
   {
    "duration": 3,
    "start_time": "2021-09-26T10:18:23.452Z"
   },
   {
    "duration": 26,
    "start_time": "2021-09-26T10:18:26.763Z"
   },
   {
    "duration": 3,
    "start_time": "2021-09-26T10:19:23.465Z"
   },
   {
    "duration": 154,
    "start_time": "2021-09-26T10:19:23.471Z"
   },
   {
    "duration": 6,
    "start_time": "2021-09-26T10:19:23.627Z"
   },
   {
    "duration": 29,
    "start_time": "2021-09-26T10:19:23.635Z"
   },
   {
    "duration": 10,
    "start_time": "2021-09-26T10:19:23.666Z"
   },
   {
    "duration": 19,
    "start_time": "2021-09-26T10:19:23.678Z"
   },
   {
    "duration": 8,
    "start_time": "2021-09-26T10:19:23.698Z"
   },
   {
    "duration": 44,
    "start_time": "2021-09-26T10:19:23.708Z"
   },
   {
    "duration": 22,
    "start_time": "2021-09-26T10:19:23.754Z"
   },
   {
    "duration": 23,
    "start_time": "2021-09-26T10:19:23.778Z"
   },
   {
    "duration": 67,
    "start_time": "2021-09-26T10:19:23.803Z"
   },
   {
    "duration": 73,
    "start_time": "2021-09-26T10:19:23.871Z"
   },
   {
    "duration": 48,
    "start_time": "2021-09-26T10:19:23.946Z"
   },
   {
    "duration": 42,
    "start_time": "2021-09-26T10:19:23.995Z"
   },
   {
    "duration": 7,
    "start_time": "2021-09-26T10:19:24.039Z"
   },
   {
    "duration": 11,
    "start_time": "2021-09-26T10:19:24.048Z"
   },
   {
    "duration": 41,
    "start_time": "2021-09-26T10:19:24.061Z"
   },
   {
    "duration": 12,
    "start_time": "2021-09-26T10:19:24.103Z"
   },
   {
    "duration": 27,
    "start_time": "2021-09-26T10:19:24.117Z"
   },
   {
    "duration": 8,
    "start_time": "2021-09-26T10:19:24.145Z"
   },
   {
    "duration": 28,
    "start_time": "2021-09-26T10:19:26.795Z"
   },
   {
    "duration": 3,
    "start_time": "2021-09-26T10:21:26.558Z"
   },
   {
    "duration": 141,
    "start_time": "2021-09-26T10:21:26.565Z"
   },
   {
    "duration": 6,
    "start_time": "2021-09-26T10:21:26.708Z"
   },
   {
    "duration": 37,
    "start_time": "2021-09-26T10:21:26.716Z"
   },
   {
    "duration": 6,
    "start_time": "2021-09-26T10:21:26.755Z"
   },
   {
    "duration": 34,
    "start_time": "2021-09-26T10:21:26.763Z"
   },
   {
    "duration": 10,
    "start_time": "2021-09-26T10:21:26.799Z"
   },
   {
    "duration": 31,
    "start_time": "2021-09-26T10:21:26.811Z"
   },
   {
    "duration": 26,
    "start_time": "2021-09-26T10:21:26.844Z"
   },
   {
    "duration": 33,
    "start_time": "2021-09-26T10:21:26.873Z"
   },
   {
    "duration": 62,
    "start_time": "2021-09-26T10:21:26.907Z"
   },
   {
    "duration": 78,
    "start_time": "2021-09-26T10:21:26.971Z"
   },
   {
    "duration": 54,
    "start_time": "2021-09-26T10:21:27.051Z"
   },
   {
    "duration": 54,
    "start_time": "2021-09-26T10:21:27.107Z"
   },
   {
    "duration": 4,
    "start_time": "2021-09-26T10:21:27.163Z"
   },
   {
    "duration": 11,
    "start_time": "2021-09-26T10:21:27.169Z"
   },
   {
    "duration": 67,
    "start_time": "2021-09-26T10:21:27.182Z"
   },
   {
    "duration": 14,
    "start_time": "2021-09-26T10:21:27.251Z"
   },
   {
    "duration": 12,
    "start_time": "2021-09-26T10:21:27.267Z"
   },
   {
    "duration": 5,
    "start_time": "2021-09-26T10:21:27.281Z"
   },
   {
    "duration": 21,
    "start_time": "2021-09-26T10:21:28.775Z"
   },
   {
    "duration": 22,
    "start_time": "2021-09-26T10:21:40.968Z"
   },
   {
    "duration": 20,
    "start_time": "2021-09-26T10:21:45.753Z"
   },
   {
    "duration": 3,
    "start_time": "2021-09-26T10:21:49.972Z"
   },
   {
    "duration": 141,
    "start_time": "2021-09-26T10:21:49.978Z"
   },
   {
    "duration": 6,
    "start_time": "2021-09-26T10:21:50.121Z"
   },
   {
    "duration": 30,
    "start_time": "2021-09-26T10:21:50.129Z"
   },
   {
    "duration": 4,
    "start_time": "2021-09-26T10:21:50.161Z"
   },
   {
    "duration": 17,
    "start_time": "2021-09-26T10:21:50.167Z"
   },
   {
    "duration": 3,
    "start_time": "2021-09-26T10:21:50.186Z"
   },
   {
    "duration": 29,
    "start_time": "2021-09-26T10:21:50.191Z"
   },
   {
    "duration": 34,
    "start_time": "2021-09-26T10:21:50.222Z"
   },
   {
    "duration": 22,
    "start_time": "2021-09-26T10:21:50.258Z"
   },
   {
    "duration": 66,
    "start_time": "2021-09-26T10:21:50.281Z"
   },
   {
    "duration": 58,
    "start_time": "2021-09-26T10:21:50.349Z"
   },
   {
    "duration": 59,
    "start_time": "2021-09-26T10:21:50.409Z"
   },
   {
    "duration": 38,
    "start_time": "2021-09-26T10:21:50.470Z"
   },
   {
    "duration": 2,
    "start_time": "2021-09-26T10:21:50.510Z"
   },
   {
    "duration": 30,
    "start_time": "2021-09-26T10:21:50.514Z"
   },
   {
    "duration": 38,
    "start_time": "2021-09-26T10:21:50.546Z"
   },
   {
    "duration": 12,
    "start_time": "2021-09-26T10:21:50.586Z"
   },
   {
    "duration": 12,
    "start_time": "2021-09-26T10:21:50.599Z"
   },
   {
    "duration": 3,
    "start_time": "2021-09-26T10:21:50.612Z"
   },
   {
    "duration": 16,
    "start_time": "2021-09-26T10:21:52.087Z"
   },
   {
    "duration": 15,
    "start_time": "2021-09-26T10:21:55.718Z"
   },
   {
    "duration": 14,
    "start_time": "2021-09-26T10:21:59.015Z"
   },
   {
    "duration": 15,
    "start_time": "2021-09-26T10:22:26.790Z"
   },
   {
    "duration": 15,
    "start_time": "2021-09-26T10:23:24.666Z"
   },
   {
    "duration": 16,
    "start_time": "2021-09-26T10:23:27.976Z"
   },
   {
    "duration": 255,
    "start_time": "2021-09-26T10:28:29.122Z"
   },
   {
    "duration": 266,
    "start_time": "2021-09-26T10:28:51.731Z"
   },
   {
    "duration": 267,
    "start_time": "2021-09-26T10:29:56.147Z"
   },
   {
    "duration": 305,
    "start_time": "2021-09-26T10:37:25.161Z"
   },
   {
    "duration": 304,
    "start_time": "2021-09-26T10:45:41.086Z"
   },
   {
    "duration": 93,
    "start_time": "2021-09-26T10:52:49.817Z"
   },
   {
    "duration": 4,
    "start_time": "2021-09-26T10:53:01.796Z"
   },
   {
    "duration": 3,
    "start_time": "2021-09-26T10:53:14.548Z"
   },
   {
    "duration": 5,
    "start_time": "2021-09-26T10:53:24.569Z"
   },
   {
    "duration": 7,
    "start_time": "2021-09-26T10:55:44.581Z"
   },
   {
    "duration": 5,
    "start_time": "2021-09-26T10:56:06.916Z"
   },
   {
    "duration": 94,
    "start_time": "2021-09-26T11:01:41.020Z"
   },
   {
    "duration": 7,
    "start_time": "2021-09-26T11:01:47.628Z"
   },
   {
    "duration": 4,
    "start_time": "2021-09-26T11:10:46.283Z"
   },
   {
    "duration": 9,
    "start_time": "2021-09-26T11:11:14.524Z"
   },
   {
    "duration": 9,
    "start_time": "2021-09-26T11:12:07.751Z"
   },
   {
    "duration": 13,
    "start_time": "2021-09-26T11:14:29.294Z"
   },
   {
    "duration": 16,
    "start_time": "2021-09-26T11:14:44.586Z"
   },
   {
    "duration": 12,
    "start_time": "2021-09-26T11:14:59.626Z"
   },
   {
    "duration": 9,
    "start_time": "2021-09-26T11:15:51.449Z"
   },
   {
    "duration": 5,
    "start_time": "2021-09-26T11:32:44.479Z"
   },
   {
    "duration": 573,
    "start_time": "2021-09-26T11:35:46.687Z"
   },
   {
    "duration": 539,
    "start_time": "2021-09-26T11:36:17.840Z"
   },
   {
    "duration": 3,
    "start_time": "2021-09-26T11:37:01.573Z"
   },
   {
    "duration": 230,
    "start_time": "2021-09-26T11:37:01.578Z"
   },
   {
    "duration": 10,
    "start_time": "2021-09-26T11:37:01.812Z"
   },
   {
    "duration": 63,
    "start_time": "2021-09-26T11:37:01.825Z"
   },
   {
    "duration": 11,
    "start_time": "2021-09-26T11:37:01.890Z"
   },
   {
    "duration": 73,
    "start_time": "2021-09-26T11:37:01.904Z"
   },
   {
    "duration": 22,
    "start_time": "2021-09-26T11:37:01.980Z"
   },
   {
    "duration": 39,
    "start_time": "2021-09-26T11:37:02.005Z"
   },
   {
    "duration": 39,
    "start_time": "2021-09-26T11:37:02.047Z"
   },
   {
    "duration": 44,
    "start_time": "2021-09-26T11:37:02.089Z"
   },
   {
    "duration": 66,
    "start_time": "2021-09-26T11:37:02.143Z"
   },
   {
    "duration": 91,
    "start_time": "2021-09-26T11:37:02.211Z"
   },
   {
    "duration": 70,
    "start_time": "2021-09-26T11:37:02.304Z"
   },
   {
    "duration": 40,
    "start_time": "2021-09-26T11:37:02.375Z"
   },
   {
    "duration": 13,
    "start_time": "2021-09-26T11:37:02.417Z"
   },
   {
    "duration": 26,
    "start_time": "2021-09-26T11:37:02.432Z"
   },
   {
    "duration": 42,
    "start_time": "2021-09-26T11:37:02.463Z"
   },
   {
    "duration": 11,
    "start_time": "2021-09-26T11:37:02.507Z"
   },
   {
    "duration": 20,
    "start_time": "2021-09-26T11:37:02.547Z"
   },
   {
    "duration": 4,
    "start_time": "2021-09-26T11:37:02.570Z"
   },
   {
    "duration": 20,
    "start_time": "2021-09-26T11:37:02.576Z"
   },
   {
    "duration": 47,
    "start_time": "2021-09-26T11:37:02.598Z"
   },
   {
    "duration": 24,
    "start_time": "2021-09-26T11:37:02.647Z"
   },
   {
    "duration": 16,
    "start_time": "2021-09-26T11:37:02.673Z"
   },
   {
    "duration": 19,
    "start_time": "2021-09-26T11:37:02.691Z"
   },
   {
    "duration": 53,
    "start_time": "2021-09-26T11:37:02.712Z"
   },
   {
    "duration": 12,
    "start_time": "2021-09-26T11:37:02.768Z"
   },
   {
    "duration": 37,
    "start_time": "2021-09-26T11:37:02.782Z"
   },
   {
    "duration": 27,
    "start_time": "2021-09-26T11:37:02.821Z"
   },
   {
    "duration": 9,
    "start_time": "2021-09-26T11:37:02.850Z"
   },
   {
    "duration": 587,
    "start_time": "2021-09-26T11:37:03.647Z"
   },
   {
    "duration": 1055,
    "start_time": "2021-09-26T11:38:14.271Z"
   },
   {
    "duration": 607,
    "start_time": "2021-09-26T11:38:17.471Z"
   },
   {
    "duration": 4,
    "start_time": "2021-09-26T11:42:46.206Z"
   },
   {
    "duration": 3,
    "start_time": "2021-09-26T11:42:50.642Z"
   },
   {
    "duration": 163,
    "start_time": "2021-09-26T11:42:50.650Z"
   },
   {
    "duration": 7,
    "start_time": "2021-09-26T11:42:50.815Z"
   },
   {
    "duration": 52,
    "start_time": "2021-09-26T11:42:50.824Z"
   },
   {
    "duration": 4,
    "start_time": "2021-09-26T11:42:50.878Z"
   },
   {
    "duration": 28,
    "start_time": "2021-09-26T11:42:50.884Z"
   },
   {
    "duration": 5,
    "start_time": "2021-09-26T11:42:50.914Z"
   },
   {
    "duration": 62,
    "start_time": "2021-09-26T11:42:50.921Z"
   },
   {
    "duration": 39,
    "start_time": "2021-09-26T11:42:50.986Z"
   },
   {
    "duration": 52,
    "start_time": "2021-09-26T11:42:51.029Z"
   },
   {
    "duration": 118,
    "start_time": "2021-09-26T11:42:51.085Z"
   },
   {
    "duration": 139,
    "start_time": "2021-09-26T11:42:51.206Z"
   },
   {
    "duration": 75,
    "start_time": "2021-09-26T11:42:51.347Z"
   },
   {
    "duration": 62,
    "start_time": "2021-09-26T11:42:51.423Z"
   },
   {
    "duration": 3,
    "start_time": "2021-09-26T11:42:51.486Z"
   },
   {
    "duration": 16,
    "start_time": "2021-09-26T11:42:51.491Z"
   },
   {
    "duration": 82,
    "start_time": "2021-09-26T11:42:51.508Z"
   },
   {
    "duration": 14,
    "start_time": "2021-09-26T11:42:51.592Z"
   },
   {
    "duration": 12,
    "start_time": "2021-09-26T11:42:51.608Z"
   },
   {
    "duration": 26,
    "start_time": "2021-09-26T11:42:51.621Z"
   },
   {
    "duration": 29,
    "start_time": "2021-09-26T11:42:51.650Z"
   },
   {
    "duration": 16,
    "start_time": "2021-09-26T11:42:51.681Z"
   },
   {
    "duration": 15,
    "start_time": "2021-09-26T11:42:51.699Z"
   },
   {
    "duration": 47,
    "start_time": "2021-09-26T11:42:51.717Z"
   },
   {
    "duration": 21,
    "start_time": "2021-09-26T11:42:51.766Z"
   },
   {
    "duration": 17,
    "start_time": "2021-09-26T11:42:51.789Z"
   },
   {
    "duration": 9,
    "start_time": "2021-09-26T11:42:51.807Z"
   },
   {
    "duration": 16,
    "start_time": "2021-09-26T11:42:51.848Z"
   },
   {
    "duration": 15,
    "start_time": "2021-09-26T11:42:51.867Z"
   },
   {
    "duration": 5,
    "start_time": "2021-09-26T11:42:51.885Z"
   },
   {
    "duration": 986,
    "start_time": "2021-09-26T11:42:54.220Z"
   },
   {
    "duration": 1041,
    "start_time": "2021-09-26T11:42:57.454Z"
   },
   {
    "duration": 619,
    "start_time": "2021-09-26T11:59:41.620Z"
   },
   {
    "duration": 582,
    "start_time": "2021-09-26T12:00:08.966Z"
   },
   {
    "duration": 4,
    "start_time": "2021-09-26T12:16:09.050Z"
   },
   {
    "duration": 2,
    "start_time": "2021-09-26T12:16:14.030Z"
   },
   {
    "duration": 150,
    "start_time": "2021-09-26T12:16:14.037Z"
   },
   {
    "duration": 6,
    "start_time": "2021-09-26T12:16:14.189Z"
   },
   {
    "duration": 26,
    "start_time": "2021-09-26T12:16:14.197Z"
   },
   {
    "duration": 19,
    "start_time": "2021-09-26T12:16:14.226Z"
   },
   {
    "duration": 20,
    "start_time": "2021-09-26T12:16:14.247Z"
   },
   {
    "duration": 4,
    "start_time": "2021-09-26T12:16:14.269Z"
   },
   {
    "duration": 26,
    "start_time": "2021-09-26T12:16:14.274Z"
   },
   {
    "duration": 42,
    "start_time": "2021-09-26T12:16:14.302Z"
   },
   {
    "duration": 28,
    "start_time": "2021-09-26T12:16:14.346Z"
   },
   {
    "duration": 71,
    "start_time": "2021-09-26T12:16:14.376Z"
   },
   {
    "duration": 67,
    "start_time": "2021-09-26T12:16:14.449Z"
   },
   {
    "duration": 69,
    "start_time": "2021-09-26T12:16:14.518Z"
   },
   {
    "duration": 56,
    "start_time": "2021-09-26T12:16:14.589Z"
   },
   {
    "duration": 3,
    "start_time": "2021-09-26T12:16:14.647Z"
   },
   {
    "duration": 14,
    "start_time": "2021-09-26T12:16:14.652Z"
   },
   {
    "duration": 41,
    "start_time": "2021-09-26T12:16:14.667Z"
   },
   {
    "duration": 20,
    "start_time": "2021-09-26T12:16:14.711Z"
   },
   {
    "duration": 13,
    "start_time": "2021-09-26T12:16:14.745Z"
   },
   {
    "duration": 19,
    "start_time": "2021-09-26T12:16:14.760Z"
   },
   {
    "duration": 45,
    "start_time": "2021-09-26T12:16:14.781Z"
   },
   {
    "duration": 28,
    "start_time": "2021-09-26T12:16:14.827Z"
   },
   {
    "duration": 24,
    "start_time": "2021-09-26T12:16:14.857Z"
   },
   {
    "duration": 23,
    "start_time": "2021-09-26T12:16:14.884Z"
   },
   {
    "duration": 16,
    "start_time": "2021-09-26T12:16:14.909Z"
   },
   {
    "duration": 18,
    "start_time": "2021-09-26T12:16:14.927Z"
   },
   {
    "duration": 9,
    "start_time": "2021-09-26T12:16:14.947Z"
   },
   {
    "duration": 20,
    "start_time": "2021-09-26T12:16:14.957Z"
   },
   {
    "duration": 13,
    "start_time": "2021-09-26T12:16:14.979Z"
   },
   {
    "duration": 21,
    "start_time": "2021-09-26T12:16:14.993Z"
   },
   {
    "duration": 521,
    "start_time": "2021-09-26T12:16:16.856Z"
   },
   {
    "duration": 2,
    "start_time": "2021-09-26T12:22:23.644Z"
   },
   {
    "duration": 150,
    "start_time": "2021-09-26T12:22:23.648Z"
   },
   {
    "duration": 6,
    "start_time": "2021-09-26T12:22:23.800Z"
   },
   {
    "duration": 42,
    "start_time": "2021-09-26T12:22:23.808Z"
   },
   {
    "duration": 7,
    "start_time": "2021-09-26T12:22:23.852Z"
   },
   {
    "duration": 19,
    "start_time": "2021-09-26T12:22:23.860Z"
   },
   {
    "duration": 4,
    "start_time": "2021-09-26T12:22:23.881Z"
   },
   {
    "duration": 25,
    "start_time": "2021-09-26T12:22:23.888Z"
   },
   {
    "duration": 42,
    "start_time": "2021-09-26T12:22:23.915Z"
   },
   {
    "duration": 24,
    "start_time": "2021-09-26T12:22:23.959Z"
   },
   {
    "duration": 71,
    "start_time": "2021-09-26T12:22:23.985Z"
   },
   {
    "duration": 67,
    "start_time": "2021-09-26T12:22:24.058Z"
   },
   {
    "duration": 62,
    "start_time": "2021-09-26T12:22:24.126Z"
   },
   {
    "duration": 37,
    "start_time": "2021-09-26T12:22:24.190Z"
   },
   {
    "duration": 3,
    "start_time": "2021-09-26T12:22:24.245Z"
   },
   {
    "duration": 25,
    "start_time": "2021-09-26T12:22:24.249Z"
   },
   {
    "duration": 38,
    "start_time": "2021-09-26T12:22:24.275Z"
   },
   {
    "duration": 12,
    "start_time": "2021-09-26T12:22:24.315Z"
   },
   {
    "duration": 20,
    "start_time": "2021-09-26T12:22:24.330Z"
   },
   {
    "duration": 3,
    "start_time": "2021-09-26T12:22:24.352Z"
   },
   {
    "duration": 29,
    "start_time": "2021-09-26T12:22:24.356Z"
   },
   {
    "duration": 14,
    "start_time": "2021-09-26T12:22:24.386Z"
   },
   {
    "duration": 17,
    "start_time": "2021-09-26T12:22:24.401Z"
   },
   {
    "duration": 39,
    "start_time": "2021-09-26T12:22:24.420Z"
   },
   {
    "duration": 18,
    "start_time": "2021-09-26T12:22:24.460Z"
   },
   {
    "duration": 14,
    "start_time": "2021-09-26T12:22:24.480Z"
   },
   {
    "duration": 9,
    "start_time": "2021-09-26T12:22:24.496Z"
   },
   {
    "duration": 43,
    "start_time": "2021-09-26T12:22:24.506Z"
   },
   {
    "duration": 12,
    "start_time": "2021-09-26T12:22:24.550Z"
   },
   {
    "duration": 4,
    "start_time": "2021-09-26T12:22:24.564Z"
   },
   {
    "duration": 2,
    "start_time": "2021-09-26T12:22:30.212Z"
   },
   {
    "duration": 176,
    "start_time": "2021-09-26T12:22:30.216Z"
   },
   {
    "duration": 11,
    "start_time": "2021-09-26T12:22:30.394Z"
   },
   {
    "duration": 75,
    "start_time": "2021-09-26T12:22:30.407Z"
   },
   {
    "duration": 17,
    "start_time": "2021-09-26T12:22:30.484Z"
   },
   {
    "duration": 42,
    "start_time": "2021-09-26T12:22:30.503Z"
   },
   {
    "duration": 3,
    "start_time": "2021-09-26T12:22:30.547Z"
   },
   {
    "duration": 36,
    "start_time": "2021-09-26T12:22:30.553Z"
   },
   {
    "duration": 34,
    "start_time": "2021-09-26T12:22:30.591Z"
   },
   {
    "duration": 40,
    "start_time": "2021-09-26T12:22:30.627Z"
   },
   {
    "duration": 84,
    "start_time": "2021-09-26T12:22:30.669Z"
   },
   {
    "duration": 75,
    "start_time": "2021-09-26T12:22:30.755Z"
   },
   {
    "duration": 70,
    "start_time": "2021-09-26T12:22:30.832Z"
   },
   {
    "duration": 48,
    "start_time": "2021-09-26T12:22:30.904Z"
   },
   {
    "duration": 24,
    "start_time": "2021-09-26T12:22:30.954Z"
   },
   {
    "duration": 30,
    "start_time": "2021-09-26T12:22:30.979Z"
   },
   {
    "duration": 57,
    "start_time": "2021-09-26T12:22:31.011Z"
   },
   {
    "duration": 23,
    "start_time": "2021-09-26T12:22:31.070Z"
   },
   {
    "duration": 33,
    "start_time": "2021-09-26T12:22:31.095Z"
   },
   {
    "duration": 3,
    "start_time": "2021-09-26T12:22:31.130Z"
   },
   {
    "duration": 50,
    "start_time": "2021-09-26T12:22:31.135Z"
   },
   {
    "duration": 21,
    "start_time": "2021-09-26T12:22:31.187Z"
   },
   {
    "duration": 42,
    "start_time": "2021-09-26T12:22:31.211Z"
   },
   {
    "duration": 28,
    "start_time": "2021-09-26T12:22:31.255Z"
   },
   {
    "duration": 27,
    "start_time": "2021-09-26T12:22:31.285Z"
   },
   {
    "duration": 20,
    "start_time": "2021-09-26T12:22:31.314Z"
   },
   {
    "duration": 17,
    "start_time": "2021-09-26T12:22:31.336Z"
   },
   {
    "duration": 35,
    "start_time": "2021-09-26T12:22:31.355Z"
   },
   {
    "duration": 14,
    "start_time": "2021-09-26T12:22:31.392Z"
   },
   {
    "duration": 11,
    "start_time": "2021-09-26T12:22:31.408Z"
   },
   {
    "duration": 1047,
    "start_time": "2021-09-26T12:22:33.764Z"
   },
   {
    "duration": 2,
    "start_time": "2021-09-26T12:24:25.049Z"
   },
   {
    "duration": 157,
    "start_time": "2021-09-26T12:24:25.056Z"
   },
   {
    "duration": 7,
    "start_time": "2021-09-26T12:24:25.214Z"
   },
   {
    "duration": 41,
    "start_time": "2021-09-26T12:24:25.223Z"
   },
   {
    "duration": 4,
    "start_time": "2021-09-26T12:24:25.266Z"
   },
   {
    "duration": 41,
    "start_time": "2021-09-26T12:24:25.271Z"
   },
   {
    "duration": 4,
    "start_time": "2021-09-26T12:24:25.313Z"
   },
   {
    "duration": 38,
    "start_time": "2021-09-26T12:24:25.319Z"
   },
   {
    "duration": 22,
    "start_time": "2021-09-26T12:24:25.360Z"
   },
   {
    "duration": 33,
    "start_time": "2021-09-26T12:24:25.384Z"
   },
   {
    "duration": 73,
    "start_time": "2021-09-26T12:24:25.419Z"
   },
   {
    "duration": 72,
    "start_time": "2021-09-26T12:24:25.494Z"
   },
   {
    "duration": 62,
    "start_time": "2021-09-26T12:24:25.568Z"
   },
   {
    "duration": 50,
    "start_time": "2021-09-26T12:24:25.632Z"
   },
   {
    "duration": 8,
    "start_time": "2021-09-26T12:24:25.684Z"
   },
   {
    "duration": 27,
    "start_time": "2021-09-26T12:24:25.693Z"
   },
   {
    "duration": 47,
    "start_time": "2021-09-26T12:24:25.722Z"
   },
   {
    "duration": 22,
    "start_time": "2021-09-26T12:24:25.771Z"
   },
   {
    "duration": 13,
    "start_time": "2021-09-26T12:24:25.795Z"
   },
   {
    "duration": 4,
    "start_time": "2021-09-26T12:24:25.810Z"
   },
   {
    "duration": 40,
    "start_time": "2021-09-26T12:24:25.816Z"
   },
   {
    "duration": 25,
    "start_time": "2021-09-26T12:24:25.858Z"
   },
   {
    "duration": 21,
    "start_time": "2021-09-26T12:24:25.885Z"
   },
   {
    "duration": 17,
    "start_time": "2021-09-26T12:24:25.910Z"
   },
   {
    "duration": 27,
    "start_time": "2021-09-26T12:24:25.929Z"
   },
   {
    "duration": 23,
    "start_time": "2021-09-26T12:24:25.959Z"
   },
   {
    "duration": 12,
    "start_time": "2021-09-26T12:24:25.984Z"
   },
   {
    "duration": 21,
    "start_time": "2021-09-26T12:24:25.997Z"
   },
   {
    "duration": 24,
    "start_time": "2021-09-26T12:24:26.020Z"
   },
   {
    "duration": 12,
    "start_time": "2021-09-26T12:24:26.046Z"
   },
   {
    "duration": 561,
    "start_time": "2021-09-26T12:24:27.684Z"
   },
   {
    "duration": 525,
    "start_time": "2021-09-26T12:24:44.819Z"
   },
   {
    "duration": 3,
    "start_time": "2021-09-26T12:28:25.246Z"
   },
   {
    "duration": 144,
    "start_time": "2021-09-26T12:28:25.254Z"
   },
   {
    "duration": 7,
    "start_time": "2021-09-26T12:28:25.400Z"
   },
   {
    "duration": 36,
    "start_time": "2021-09-26T12:28:25.409Z"
   },
   {
    "duration": 3,
    "start_time": "2021-09-26T12:28:25.447Z"
   },
   {
    "duration": 31,
    "start_time": "2021-09-26T12:28:25.452Z"
   },
   {
    "duration": 4,
    "start_time": "2021-09-26T12:28:25.484Z"
   },
   {
    "duration": 31,
    "start_time": "2021-09-26T12:28:25.490Z"
   },
   {
    "duration": 29,
    "start_time": "2021-09-26T12:28:25.523Z"
   },
   {
    "duration": 29,
    "start_time": "2021-09-26T12:28:25.555Z"
   },
   {
    "duration": 74,
    "start_time": "2021-09-26T12:28:25.586Z"
   },
   {
    "duration": 69,
    "start_time": "2021-09-26T12:28:25.662Z"
   },
   {
    "duration": 57,
    "start_time": "2021-09-26T12:28:25.745Z"
   },
   {
    "duration": 50,
    "start_time": "2021-09-26T12:28:25.804Z"
   },
   {
    "duration": 7,
    "start_time": "2021-09-26T12:28:25.855Z"
   },
   {
    "duration": 15,
    "start_time": "2021-09-26T12:28:25.863Z"
   },
   {
    "duration": 41,
    "start_time": "2021-09-26T12:28:25.880Z"
   },
   {
    "duration": 13,
    "start_time": "2021-09-26T12:28:25.922Z"
   },
   {
    "duration": 13,
    "start_time": "2021-09-26T12:28:25.944Z"
   },
   {
    "duration": 3,
    "start_time": "2021-09-26T12:28:25.959Z"
   },
   {
    "duration": 22,
    "start_time": "2021-09-26T12:28:25.963Z"
   },
   {
    "duration": 14,
    "start_time": "2021-09-26T12:28:25.986Z"
   },
   {
    "duration": 14,
    "start_time": "2021-09-26T12:28:26.001Z"
   },
   {
    "duration": 39,
    "start_time": "2021-09-26T12:28:26.017Z"
   },
   {
    "duration": 15,
    "start_time": "2021-09-26T12:28:26.058Z"
   },
   {
    "duration": 13,
    "start_time": "2021-09-26T12:28:26.075Z"
   },
   {
    "duration": 8,
    "start_time": "2021-09-26T12:28:26.089Z"
   },
   {
    "duration": 13,
    "start_time": "2021-09-26T12:28:26.100Z"
   },
   {
    "duration": 11,
    "start_time": "2021-09-26T12:28:26.144Z"
   },
   {
    "duration": 5,
    "start_time": "2021-09-26T12:28:26.157Z"
   },
   {
    "duration": 541,
    "start_time": "2021-09-26T12:28:28.033Z"
   },
   {
    "duration": 3,
    "start_time": "2021-09-26T12:31:21.469Z"
   },
   {
    "duration": 217,
    "start_time": "2021-09-26T12:31:21.475Z"
   },
   {
    "duration": 9,
    "start_time": "2021-09-26T12:31:21.695Z"
   },
   {
    "duration": 54,
    "start_time": "2021-09-26T12:31:21.706Z"
   },
   {
    "duration": 5,
    "start_time": "2021-09-26T12:31:21.762Z"
   },
   {
    "duration": 38,
    "start_time": "2021-09-26T12:31:21.769Z"
   },
   {
    "duration": 3,
    "start_time": "2021-09-26T12:31:21.810Z"
   },
   {
    "duration": 43,
    "start_time": "2021-09-26T12:31:21.815Z"
   },
   {
    "duration": 22,
    "start_time": "2021-09-26T12:31:21.859Z"
   },
   {
    "duration": 39,
    "start_time": "2021-09-26T12:31:21.882Z"
   },
   {
    "duration": 71,
    "start_time": "2021-09-26T12:31:21.923Z"
   },
   {
    "duration": 88,
    "start_time": "2021-09-26T12:31:21.996Z"
   },
   {
    "duration": 65,
    "start_time": "2021-09-26T12:31:22.086Z"
   },
   {
    "duration": 41,
    "start_time": "2021-09-26T12:31:22.153Z"
   },
   {
    "duration": 3,
    "start_time": "2021-09-26T12:31:22.196Z"
   },
   {
    "duration": 18,
    "start_time": "2021-09-26T12:31:22.201Z"
   },
   {
    "duration": 61,
    "start_time": "2021-09-26T12:31:22.221Z"
   },
   {
    "duration": 13,
    "start_time": "2021-09-26T12:31:22.284Z"
   },
   {
    "duration": 13,
    "start_time": "2021-09-26T12:31:22.301Z"
   },
   {
    "duration": 3,
    "start_time": "2021-09-26T12:31:22.316Z"
   },
   {
    "duration": 37,
    "start_time": "2021-09-26T12:31:22.321Z"
   },
   {
    "duration": 15,
    "start_time": "2021-09-26T12:31:22.360Z"
   },
   {
    "duration": 15,
    "start_time": "2021-09-26T12:31:22.378Z"
   },
   {
    "duration": 15,
    "start_time": "2021-09-26T12:31:22.394Z"
   },
   {
    "duration": 51,
    "start_time": "2021-09-26T12:31:22.411Z"
   },
   {
    "duration": 18,
    "start_time": "2021-09-26T12:31:22.464Z"
   },
   {
    "duration": 10,
    "start_time": "2021-09-26T12:31:22.484Z"
   },
   {
    "duration": 15,
    "start_time": "2021-09-26T12:31:22.496Z"
   },
   {
    "duration": 42,
    "start_time": "2021-09-26T12:31:22.513Z"
   },
   {
    "duration": 12,
    "start_time": "2021-09-26T12:31:22.557Z"
   },
   {
    "duration": 572,
    "start_time": "2021-09-26T12:31:24.831Z"
   },
   {
    "duration": 4,
    "start_time": "2021-09-26T12:31:50.706Z"
   },
   {
    "duration": 3,
    "start_time": "2021-09-26T12:31:56.196Z"
   },
   {
    "duration": 163,
    "start_time": "2021-09-26T12:31:56.200Z"
   },
   {
    "duration": 6,
    "start_time": "2021-09-26T12:31:56.365Z"
   },
   {
    "duration": 35,
    "start_time": "2021-09-26T12:31:56.373Z"
   },
   {
    "duration": 4,
    "start_time": "2021-09-26T12:31:56.410Z"
   },
   {
    "duration": 42,
    "start_time": "2021-09-26T12:31:56.415Z"
   },
   {
    "duration": 5,
    "start_time": "2021-09-26T12:31:56.459Z"
   },
   {
    "duration": 34,
    "start_time": "2021-09-26T12:31:56.468Z"
   },
   {
    "duration": 19,
    "start_time": "2021-09-26T12:31:56.504Z"
   },
   {
    "duration": 48,
    "start_time": "2021-09-26T12:31:56.525Z"
   },
   {
    "duration": 77,
    "start_time": "2021-09-26T12:31:56.574Z"
   },
   {
    "duration": 73,
    "start_time": "2021-09-26T12:31:56.653Z"
   },
   {
    "duration": 73,
    "start_time": "2021-09-26T12:31:56.728Z"
   },
   {
    "duration": 49,
    "start_time": "2021-09-26T12:31:56.803Z"
   },
   {
    "duration": 3,
    "start_time": "2021-09-26T12:31:56.854Z"
   },
   {
    "duration": 16,
    "start_time": "2021-09-26T12:31:56.858Z"
   },
   {
    "duration": 41,
    "start_time": "2021-09-26T12:31:56.878Z"
   },
   {
    "duration": 43,
    "start_time": "2021-09-26T12:31:56.920Z"
   },
   {
    "duration": 14,
    "start_time": "2021-09-26T12:31:56.964Z"
   },
   {
    "duration": 4,
    "start_time": "2021-09-26T12:31:56.979Z"
   },
   {
    "duration": 24,
    "start_time": "2021-09-26T12:31:56.984Z"
   },
   {
    "duration": 36,
    "start_time": "2021-09-26T12:31:57.010Z"
   },
   {
    "duration": 16,
    "start_time": "2021-09-26T12:31:57.050Z"
   },
   {
    "duration": 19,
    "start_time": "2021-09-26T12:31:57.068Z"
   },
   {
    "duration": 20,
    "start_time": "2021-09-26T12:31:57.088Z"
   },
   {
    "duration": 48,
    "start_time": "2021-09-26T12:31:57.110Z"
   },
   {
    "duration": 10,
    "start_time": "2021-09-26T12:31:57.160Z"
   },
   {
    "duration": 13,
    "start_time": "2021-09-26T12:31:57.172Z"
   },
   {
    "duration": 16,
    "start_time": "2021-09-26T12:31:57.186Z"
   },
   {
    "duration": 590,
    "start_time": "2021-09-26T12:32:05.630Z"
   },
   {
    "duration": 2,
    "start_time": "2021-09-26T13:54:38.254Z"
   },
   {
    "duration": 154,
    "start_time": "2021-09-26T13:54:38.260Z"
   },
   {
    "duration": 7,
    "start_time": "2021-09-26T13:54:38.416Z"
   },
   {
    "duration": 40,
    "start_time": "2021-09-26T13:54:38.425Z"
   },
   {
    "duration": 8,
    "start_time": "2021-09-26T13:54:38.466Z"
   },
   {
    "duration": 55,
    "start_time": "2021-09-26T13:54:38.476Z"
   },
   {
    "duration": 13,
    "start_time": "2021-09-26T13:54:38.532Z"
   },
   {
    "duration": 26,
    "start_time": "2021-09-26T13:54:38.547Z"
   },
   {
    "duration": 28,
    "start_time": "2021-09-26T13:54:38.575Z"
   },
   {
    "duration": 26,
    "start_time": "2021-09-26T13:54:38.605Z"
   },
   {
    "duration": 73,
    "start_time": "2021-09-26T13:54:38.633Z"
   },
   {
    "duration": 72,
    "start_time": "2021-09-26T13:54:38.708Z"
   },
   {
    "duration": 52,
    "start_time": "2021-09-26T13:54:38.782Z"
   },
   {
    "duration": 44,
    "start_time": "2021-09-26T13:54:38.835Z"
   },
   {
    "duration": 6,
    "start_time": "2021-09-26T13:54:38.880Z"
   },
   {
    "duration": 27,
    "start_time": "2021-09-26T13:54:38.888Z"
   },
   {
    "duration": 39,
    "start_time": "2021-09-26T13:54:38.917Z"
   },
   {
    "duration": 14,
    "start_time": "2021-09-26T13:54:38.957Z"
   },
   {
    "duration": 16,
    "start_time": "2021-09-26T13:54:38.972Z"
   },
   {
    "duration": 5,
    "start_time": "2021-09-26T13:54:38.990Z"
   },
   {
    "duration": 36,
    "start_time": "2021-09-26T13:54:38.996Z"
   },
   {
    "duration": 24,
    "start_time": "2021-09-26T13:54:39.034Z"
   },
   {
    "duration": 20,
    "start_time": "2021-09-26T13:54:39.059Z"
   },
   {
    "duration": 15,
    "start_time": "2021-09-26T13:54:39.081Z"
   },
   {
    "duration": 18,
    "start_time": "2021-09-26T13:54:39.097Z"
   },
   {
    "duration": 40,
    "start_time": "2021-09-26T13:54:39.116Z"
   },
   {
    "duration": 8,
    "start_time": "2021-09-26T13:54:39.157Z"
   },
   {
    "duration": 19,
    "start_time": "2021-09-26T13:54:39.166Z"
   },
   {
    "duration": 12,
    "start_time": "2021-09-26T13:54:39.186Z"
   },
   {
    "duration": 1025,
    "start_time": "2021-09-26T13:54:41.634Z"
   },
   {
    "duration": 267,
    "start_time": "2021-09-26T13:56:50.507Z"
   },
   {
    "duration": 278,
    "start_time": "2021-09-26T13:58:17.014Z"
   },
   {
    "duration": 3,
    "start_time": "2021-09-26T13:58:25.050Z"
   },
   {
    "duration": 138,
    "start_time": "2021-09-26T13:58:25.055Z"
   },
   {
    "duration": 8,
    "start_time": "2021-09-26T13:58:25.195Z"
   },
   {
    "duration": 39,
    "start_time": "2021-09-26T13:58:25.205Z"
   },
   {
    "duration": 4,
    "start_time": "2021-09-26T13:58:25.246Z"
   },
   {
    "duration": 21,
    "start_time": "2021-09-26T13:58:25.251Z"
   },
   {
    "duration": 4,
    "start_time": "2021-09-26T13:58:25.274Z"
   },
   {
    "duration": 26,
    "start_time": "2021-09-26T13:58:25.280Z"
   },
   {
    "duration": 45,
    "start_time": "2021-09-26T13:58:25.307Z"
   },
   {
    "duration": 27,
    "start_time": "2021-09-26T13:58:25.353Z"
   },
   {
    "duration": 82,
    "start_time": "2021-09-26T13:58:25.381Z"
   },
   {
    "duration": 71,
    "start_time": "2021-09-26T13:58:25.464Z"
   },
   {
    "duration": 60,
    "start_time": "2021-09-26T13:58:25.545Z"
   },
   {
    "duration": 51,
    "start_time": "2021-09-26T13:58:25.607Z"
   },
   {
    "duration": 3,
    "start_time": "2021-09-26T13:58:25.659Z"
   },
   {
    "duration": 12,
    "start_time": "2021-09-26T13:58:25.664Z"
   },
   {
    "duration": 39,
    "start_time": "2021-09-26T13:58:25.678Z"
   },
   {
    "duration": 29,
    "start_time": "2021-09-26T13:58:25.718Z"
   },
   {
    "duration": 12,
    "start_time": "2021-09-26T13:58:25.750Z"
   },
   {
    "duration": 4,
    "start_time": "2021-09-26T13:58:25.764Z"
   },
   {
    "duration": 25,
    "start_time": "2021-09-26T13:58:25.769Z"
   },
   {
    "duration": 15,
    "start_time": "2021-09-26T13:58:25.796Z"
   },
   {
    "duration": 41,
    "start_time": "2021-09-26T13:58:25.813Z"
   },
   {
    "duration": 13,
    "start_time": "2021-09-26T13:58:25.856Z"
   },
   {
    "duration": 18,
    "start_time": "2021-09-26T13:58:25.870Z"
   },
   {
    "duration": 14,
    "start_time": "2021-09-26T13:58:25.889Z"
   },
   {
    "duration": 39,
    "start_time": "2021-09-26T13:58:25.905Z"
   },
   {
    "duration": 13,
    "start_time": "2021-09-26T13:58:25.946Z"
   },
   {
    "duration": 12,
    "start_time": "2021-09-26T13:58:25.961Z"
   },
   {
    "duration": 5,
    "start_time": "2021-09-26T13:58:25.975Z"
   },
   {
    "duration": 260,
    "start_time": "2021-09-26T13:58:27.507Z"
   },
   {
    "duration": 272,
    "start_time": "2021-09-26T13:58:53.731Z"
   },
   {
    "duration": 291,
    "start_time": "2021-09-26T13:59:05.139Z"
   },
   {
    "duration": 297,
    "start_time": "2021-09-26T13:59:27.489Z"
   },
   {
    "duration": 332,
    "start_time": "2021-09-26T14:00:20.208Z"
   },
   {
    "duration": 273,
    "start_time": "2021-09-26T14:00:25.663Z"
   },
   {
    "duration": 4,
    "start_time": "2021-09-26T14:00:32.383Z"
   },
   {
    "duration": 260,
    "start_time": "2021-09-26T14:04:39.638Z"
   },
   {
    "duration": 144,
    "start_time": "2021-09-26T14:05:10.597Z"
   },
   {
    "duration": 160,
    "start_time": "2021-09-26T14:05:41.814Z"
   },
   {
    "duration": 306,
    "start_time": "2021-09-26T14:06:07.796Z"
   },
   {
    "duration": 5,
    "start_time": "2021-09-26T14:06:11.827Z"
   },
   {
    "duration": 556,
    "start_time": "2021-09-26T14:06:45.972Z"
   },
   {
    "duration": 2,
    "start_time": "2021-09-26T14:22:25.516Z"
   },
   {
    "duration": 161,
    "start_time": "2021-09-26T14:22:25.520Z"
   },
   {
    "duration": 7,
    "start_time": "2021-09-26T14:22:25.683Z"
   },
   {
    "duration": 28,
    "start_time": "2021-09-26T14:22:25.692Z"
   },
   {
    "duration": 24,
    "start_time": "2021-09-26T14:22:25.722Z"
   },
   {
    "duration": 21,
    "start_time": "2021-09-26T14:22:25.748Z"
   },
   {
    "duration": 4,
    "start_time": "2021-09-26T14:22:25.770Z"
   },
   {
    "duration": 29,
    "start_time": "2021-09-26T14:22:25.776Z"
   },
   {
    "duration": 48,
    "start_time": "2021-09-26T14:22:25.808Z"
   },
   {
    "duration": 26,
    "start_time": "2021-09-26T14:22:25.858Z"
   },
   {
    "duration": 78,
    "start_time": "2021-09-26T14:22:25.885Z"
   },
   {
    "duration": 68,
    "start_time": "2021-09-26T14:22:25.964Z"
   },
   {
    "duration": 56,
    "start_time": "2021-09-26T14:22:26.044Z"
   },
   {
    "duration": 52,
    "start_time": "2021-09-26T14:22:26.101Z"
   },
   {
    "duration": 3,
    "start_time": "2021-09-26T14:22:26.155Z"
   },
   {
    "duration": 13,
    "start_time": "2021-09-26T14:22:26.159Z"
   },
   {
    "duration": 39,
    "start_time": "2021-09-26T14:22:26.174Z"
   },
   {
    "duration": 38,
    "start_time": "2021-09-26T14:22:26.214Z"
   },
   {
    "duration": 13,
    "start_time": "2021-09-26T14:22:26.253Z"
   },
   {
    "duration": 3,
    "start_time": "2021-09-26T14:22:26.268Z"
   },
   {
    "duration": 22,
    "start_time": "2021-09-26T14:22:26.273Z"
   },
   {
    "duration": 52,
    "start_time": "2021-09-26T14:22:26.297Z"
   },
   {
    "duration": 13,
    "start_time": "2021-09-26T14:22:26.351Z"
   },
   {
    "duration": 12,
    "start_time": "2021-09-26T14:22:26.365Z"
   },
   {
    "duration": 15,
    "start_time": "2021-09-26T14:22:26.379Z"
   },
   {
    "duration": 85,
    "start_time": "2021-09-26T14:22:26.395Z"
   },
   {
    "duration": 8,
    "start_time": "2021-09-26T14:22:26.483Z"
   },
   {
    "duration": 12,
    "start_time": "2021-09-26T14:22:26.493Z"
   },
   {
    "duration": 37,
    "start_time": "2021-09-26T14:22:26.507Z"
   },
   {
    "duration": 4,
    "start_time": "2021-09-26T14:22:26.546Z"
   },
   {
    "duration": 661,
    "start_time": "2021-09-26T14:22:28.360Z"
   },
   {
    "duration": 3,
    "start_time": "2021-09-26T14:23:06.699Z"
   },
   {
    "duration": 161,
    "start_time": "2021-09-26T14:23:06.708Z"
   },
   {
    "duration": 6,
    "start_time": "2021-09-26T14:23:06.871Z"
   },
   {
    "duration": 30,
    "start_time": "2021-09-26T14:23:06.880Z"
   },
   {
    "duration": 4,
    "start_time": "2021-09-26T14:23:06.911Z"
   },
   {
    "duration": 37,
    "start_time": "2021-09-26T14:23:06.917Z"
   },
   {
    "duration": 4,
    "start_time": "2021-09-26T14:23:06.956Z"
   },
   {
    "duration": 30,
    "start_time": "2021-09-26T14:23:06.961Z"
   },
   {
    "duration": 22,
    "start_time": "2021-09-26T14:23:06.992Z"
   },
   {
    "duration": 28,
    "start_time": "2021-09-26T14:23:07.046Z"
   },
   {
    "duration": 79,
    "start_time": "2021-09-26T14:23:07.076Z"
   },
   {
    "duration": 91,
    "start_time": "2021-09-26T14:23:07.157Z"
   },
   {
    "duration": 61,
    "start_time": "2021-09-26T14:23:07.250Z"
   },
   {
    "duration": 67,
    "start_time": "2021-09-26T14:23:07.313Z"
   },
   {
    "duration": 4,
    "start_time": "2021-09-26T14:23:07.382Z"
   },
   {
    "duration": 18,
    "start_time": "2021-09-26T14:23:07.388Z"
   },
   {
    "duration": 58,
    "start_time": "2021-09-26T14:23:07.408Z"
   },
   {
    "duration": 15,
    "start_time": "2021-09-26T14:23:07.468Z"
   },
   {
    "duration": 14,
    "start_time": "2021-09-26T14:23:07.485Z"
   },
   {
    "duration": 4,
    "start_time": "2021-09-26T14:23:07.501Z"
   },
   {
    "duration": 58,
    "start_time": "2021-09-26T14:23:07.507Z"
   },
   {
    "duration": 18,
    "start_time": "2021-09-26T14:23:07.567Z"
   },
   {
    "duration": 14,
    "start_time": "2021-09-26T14:23:07.587Z"
   },
   {
    "duration": 49,
    "start_time": "2021-09-26T14:23:07.603Z"
   },
   {
    "duration": 18,
    "start_time": "2021-09-26T14:23:07.654Z"
   },
   {
    "duration": 17,
    "start_time": "2021-09-26T14:23:07.674Z"
   },
   {
    "duration": 8,
    "start_time": "2021-09-26T14:23:07.692Z"
   },
   {
    "duration": 46,
    "start_time": "2021-09-26T14:23:07.703Z"
   },
   {
    "duration": 12,
    "start_time": "2021-09-26T14:23:07.751Z"
   },
   {
    "duration": 4,
    "start_time": "2021-09-26T14:23:07.764Z"
   },
   {
    "duration": 570,
    "start_time": "2021-09-26T14:23:09.768Z"
   },
   {
    "duration": 555,
    "start_time": "2021-09-26T14:23:24.554Z"
   },
   {
    "duration": 1735,
    "start_time": "2021-09-26T14:23:23.376Z"
   },
   {
    "duration": 1731,
    "start_time": "2021-09-26T14:23:23.381Z"
   },
   {
    "duration": 1727,
    "start_time": "2021-09-26T14:23:23.386Z"
   },
   {
    "duration": 1725,
    "start_time": "2021-09-26T14:23:23.389Z"
   },
   {
    "duration": 1721,
    "start_time": "2021-09-26T14:23:23.394Z"
   },
   {
    "duration": 1717,
    "start_time": "2021-09-26T14:23:23.399Z"
   },
   {
    "duration": 1714,
    "start_time": "2021-09-26T14:23:23.403Z"
   },
   {
    "duration": 4,
    "start_time": "2021-09-26T14:23:32.460Z"
   },
   {
    "duration": 155,
    "start_time": "2021-09-26T14:23:32.465Z"
   },
   {
    "duration": 8,
    "start_time": "2021-09-26T14:23:32.622Z"
   },
   {
    "duration": 32,
    "start_time": "2021-09-26T14:23:32.646Z"
   },
   {
    "duration": 4,
    "start_time": "2021-09-26T14:23:32.681Z"
   },
   {
    "duration": 21,
    "start_time": "2021-09-26T14:23:32.688Z"
   },
   {
    "duration": 33,
    "start_time": "2021-09-26T14:23:32.711Z"
   },
   {
    "duration": 29,
    "start_time": "2021-09-26T14:23:32.746Z"
   },
   {
    "duration": 23,
    "start_time": "2021-09-26T14:23:32.777Z"
   },
   {
    "duration": 48,
    "start_time": "2021-09-26T14:23:32.802Z"
   },
   {
    "duration": 68,
    "start_time": "2021-09-26T14:23:32.852Z"
   },
   {
    "duration": 95,
    "start_time": "2021-09-26T14:23:32.922Z"
   },
   {
    "duration": 74,
    "start_time": "2021-09-26T14:23:33.018Z"
   },
   {
    "duration": 52,
    "start_time": "2021-09-26T14:23:33.093Z"
   },
   {
    "duration": 3,
    "start_time": "2021-09-26T14:23:33.147Z"
   },
   {
    "duration": 20,
    "start_time": "2021-09-26T14:23:33.151Z"
   },
   {
    "duration": 48,
    "start_time": "2021-09-26T14:23:33.173Z"
   },
   {
    "duration": 27,
    "start_time": "2021-09-26T14:23:33.222Z"
   },
   {
    "duration": 13,
    "start_time": "2021-09-26T14:23:33.251Z"
   },
   {
    "duration": 8,
    "start_time": "2021-09-26T14:23:33.265Z"
   },
   {
    "duration": 37,
    "start_time": "2021-09-26T14:23:33.275Z"
   },
   {
    "duration": 14,
    "start_time": "2021-09-26T14:23:33.314Z"
   },
   {
    "duration": 24,
    "start_time": "2021-09-26T14:23:33.331Z"
   },
   {
    "duration": 23,
    "start_time": "2021-09-26T14:23:33.357Z"
   },
   {
    "duration": 17,
    "start_time": "2021-09-26T14:23:33.382Z"
   },
   {
    "duration": 20,
    "start_time": "2021-09-26T14:23:33.401Z"
   },
   {
    "duration": 25,
    "start_time": "2021-09-26T14:23:33.425Z"
   },
   {
    "duration": 16,
    "start_time": "2021-09-26T14:23:33.452Z"
   },
   {
    "duration": 12,
    "start_time": "2021-09-26T14:23:33.469Z"
   },
   {
    "duration": 4,
    "start_time": "2021-09-26T14:23:33.482Z"
   },
   {
    "duration": 568,
    "start_time": "2021-09-26T14:23:35.110Z"
   },
   {
    "duration": 2,
    "start_time": "2021-09-26T14:26:33.993Z"
   },
   {
    "duration": 158,
    "start_time": "2021-09-26T14:26:34.000Z"
   },
   {
    "duration": 7,
    "start_time": "2021-09-26T14:26:34.160Z"
   },
   {
    "duration": 38,
    "start_time": "2021-09-26T14:26:34.169Z"
   },
   {
    "duration": 3,
    "start_time": "2021-09-26T14:26:34.210Z"
   },
   {
    "duration": 29,
    "start_time": "2021-09-26T14:26:34.215Z"
   },
   {
    "duration": 5,
    "start_time": "2021-09-26T14:26:34.246Z"
   },
   {
    "duration": 45,
    "start_time": "2021-09-26T14:26:34.253Z"
   },
   {
    "duration": 22,
    "start_time": "2021-09-26T14:26:34.301Z"
   },
   {
    "duration": 35,
    "start_time": "2021-09-26T14:26:34.325Z"
   },
   {
    "duration": 79,
    "start_time": "2021-09-26T14:26:34.361Z"
   },
   {
    "duration": 77,
    "start_time": "2021-09-26T14:26:34.441Z"
   },
   {
    "duration": 68,
    "start_time": "2021-09-26T14:26:34.520Z"
   },
   {
    "duration": 40,
    "start_time": "2021-09-26T14:26:34.590Z"
   },
   {
    "duration": 3,
    "start_time": "2021-09-26T14:26:34.645Z"
   },
   {
    "duration": 15,
    "start_time": "2021-09-26T14:26:34.649Z"
   },
   {
    "duration": 41,
    "start_time": "2021-09-26T14:26:34.666Z"
   },
   {
    "duration": 14,
    "start_time": "2021-09-26T14:26:34.709Z"
   },
   {
    "duration": 15,
    "start_time": "2021-09-26T14:26:34.745Z"
   },
   {
    "duration": 5,
    "start_time": "2021-09-26T14:26:34.762Z"
   },
   {
    "duration": 20,
    "start_time": "2021-09-26T14:26:34.768Z"
   },
   {
    "duration": 16,
    "start_time": "2021-09-26T14:26:34.790Z"
   },
   {
    "duration": 47,
    "start_time": "2021-09-26T14:26:34.808Z"
   },
   {
    "duration": 15,
    "start_time": "2021-09-26T14:26:34.858Z"
   },
   {
    "duration": 18,
    "start_time": "2021-09-26T14:26:34.875Z"
   },
   {
    "duration": 15,
    "start_time": "2021-09-26T14:26:34.895Z"
   },
   {
    "duration": 38,
    "start_time": "2021-09-26T14:26:34.912Z"
   },
   {
    "duration": 13,
    "start_time": "2021-09-26T14:26:34.952Z"
   },
   {
    "duration": 13,
    "start_time": "2021-09-26T14:26:34.967Z"
   },
   {
    "duration": 5,
    "start_time": "2021-09-26T14:26:34.982Z"
   },
   {
    "duration": 603,
    "start_time": "2021-09-26T14:26:37.157Z"
   },
   {
    "duration": 2,
    "start_time": "2021-09-26T14:26:59.005Z"
   },
   {
    "duration": 165,
    "start_time": "2021-09-26T14:26:59.011Z"
   },
   {
    "duration": 7,
    "start_time": "2021-09-26T14:26:59.178Z"
   },
   {
    "duration": 35,
    "start_time": "2021-09-26T14:26:59.187Z"
   },
   {
    "duration": 24,
    "start_time": "2021-09-26T14:26:59.224Z"
   },
   {
    "duration": 18,
    "start_time": "2021-09-26T14:26:59.250Z"
   },
   {
    "duration": 5,
    "start_time": "2021-09-26T14:26:59.269Z"
   },
   {
    "duration": 33,
    "start_time": "2021-09-26T14:26:59.276Z"
   },
   {
    "duration": 49,
    "start_time": "2021-09-26T14:26:59.313Z"
   },
   {
    "duration": 30,
    "start_time": "2021-09-26T14:26:59.365Z"
   },
   {
    "duration": 96,
    "start_time": "2021-09-26T14:26:59.397Z"
   },
   {
    "duration": 85,
    "start_time": "2021-09-26T14:26:59.495Z"
   },
   {
    "duration": 73,
    "start_time": "2021-09-26T14:26:59.582Z"
   },
   {
    "duration": 38,
    "start_time": "2021-09-26T14:26:59.656Z"
   },
   {
    "duration": 3,
    "start_time": "2021-09-26T14:26:59.696Z"
   },
   {
    "duration": 14,
    "start_time": "2021-09-26T14:26:59.700Z"
   },
   {
    "duration": 60,
    "start_time": "2021-09-26T14:26:59.716Z"
   },
   {
    "duration": 15,
    "start_time": "2021-09-26T14:26:59.777Z"
   },
   {
    "duration": 15,
    "start_time": "2021-09-26T14:26:59.793Z"
   },
   {
    "duration": 3,
    "start_time": "2021-09-26T14:26:59.810Z"
   },
   {
    "duration": 40,
    "start_time": "2021-09-26T14:26:59.814Z"
   },
   {
    "duration": 15,
    "start_time": "2021-09-26T14:26:59.856Z"
   },
   {
    "duration": 17,
    "start_time": "2021-09-26T14:26:59.872Z"
   },
   {
    "duration": 14,
    "start_time": "2021-09-26T14:26:59.892Z"
   },
   {
    "duration": 47,
    "start_time": "2021-09-26T14:26:59.908Z"
   },
   {
    "duration": 16,
    "start_time": "2021-09-26T14:26:59.957Z"
   },
   {
    "duration": 8,
    "start_time": "2021-09-26T14:26:59.975Z"
   },
   {
    "duration": 14,
    "start_time": "2021-09-26T14:26:59.985Z"
   },
   {
    "duration": 13,
    "start_time": "2021-09-26T14:27:00.000Z"
   },
   {
    "duration": 33,
    "start_time": "2021-09-26T14:27:00.015Z"
   },
   {
    "duration": 23,
    "start_time": "2021-09-26T14:27:01.462Z"
   },
   {
    "duration": 15,
    "start_time": "2021-09-26T14:28:30.773Z"
   },
   {
    "duration": 3,
    "start_time": "2021-09-26T14:29:20.738Z"
   },
   {
    "duration": 151,
    "start_time": "2021-09-26T14:29:20.744Z"
   },
   {
    "duration": 7,
    "start_time": "2021-09-26T14:29:20.897Z"
   },
   {
    "duration": 45,
    "start_time": "2021-09-26T14:29:20.906Z"
   },
   {
    "duration": 4,
    "start_time": "2021-09-26T14:29:20.953Z"
   },
   {
    "duration": 19,
    "start_time": "2021-09-26T14:29:20.959Z"
   },
   {
    "duration": 4,
    "start_time": "2021-09-26T14:29:20.980Z"
   },
   {
    "duration": 31,
    "start_time": "2021-09-26T14:29:20.986Z"
   },
   {
    "duration": 46,
    "start_time": "2021-09-26T14:29:21.020Z"
   },
   {
    "duration": 28,
    "start_time": "2021-09-26T14:29:21.068Z"
   },
   {
    "duration": 83,
    "start_time": "2021-09-26T14:29:21.098Z"
   },
   {
    "duration": 85,
    "start_time": "2021-09-26T14:29:21.183Z"
   },
   {
    "duration": 62,
    "start_time": "2021-09-26T14:29:21.270Z"
   },
   {
    "duration": 49,
    "start_time": "2021-09-26T14:29:21.334Z"
   },
   {
    "duration": 3,
    "start_time": "2021-09-26T14:29:21.385Z"
   },
   {
    "duration": 16,
    "start_time": "2021-09-26T14:29:21.389Z"
   },
   {
    "duration": 61,
    "start_time": "2021-09-26T14:29:21.407Z"
   },
   {
    "duration": 16,
    "start_time": "2021-09-26T14:29:21.469Z"
   },
   {
    "duration": 15,
    "start_time": "2021-09-26T14:29:21.487Z"
   },
   {
    "duration": 4,
    "start_time": "2021-09-26T14:29:21.503Z"
   },
   {
    "duration": 46,
    "start_time": "2021-09-26T14:29:21.508Z"
   },
   {
    "duration": 17,
    "start_time": "2021-09-26T14:29:21.556Z"
   },
   {
    "duration": 21,
    "start_time": "2021-09-26T14:29:21.575Z"
   },
   {
    "duration": 17,
    "start_time": "2021-09-26T14:29:21.599Z"
   },
   {
    "duration": 43,
    "start_time": "2021-09-26T14:29:21.618Z"
   },
   {
    "duration": 17,
    "start_time": "2021-09-26T14:29:21.662Z"
   },
   {
    "duration": 9,
    "start_time": "2021-09-26T14:29:21.680Z"
   },
   {
    "duration": 21,
    "start_time": "2021-09-26T14:29:21.690Z"
   },
   {
    "duration": 39,
    "start_time": "2021-09-26T14:29:21.713Z"
   },
   {
    "duration": 4,
    "start_time": "2021-09-26T14:29:21.754Z"
   },
   {
    "duration": 22,
    "start_time": "2021-09-26T14:29:27.221Z"
   },
   {
    "duration": 3,
    "start_time": "2021-09-26T14:29:32.364Z"
   },
   {
    "duration": 161,
    "start_time": "2021-09-26T14:29:32.369Z"
   },
   {
    "duration": 13,
    "start_time": "2021-09-26T14:29:32.532Z"
   },
   {
    "duration": 34,
    "start_time": "2021-09-26T14:29:32.547Z"
   },
   {
    "duration": 5,
    "start_time": "2021-09-26T14:29:32.583Z"
   },
   {
    "duration": 23,
    "start_time": "2021-09-26T14:29:32.589Z"
   },
   {
    "duration": 4,
    "start_time": "2021-09-26T14:29:32.614Z"
   },
   {
    "duration": 55,
    "start_time": "2021-09-26T14:29:32.620Z"
   },
   {
    "duration": 25,
    "start_time": "2021-09-26T14:29:32.677Z"
   },
   {
    "duration": 44,
    "start_time": "2021-09-26T14:29:32.704Z"
   },
   {
    "duration": 74,
    "start_time": "2021-09-26T14:29:32.750Z"
   },
   {
    "duration": 99,
    "start_time": "2021-09-26T14:29:32.825Z"
   },
   {
    "duration": 73,
    "start_time": "2021-09-26T14:29:32.926Z"
   },
   {
    "duration": 52,
    "start_time": "2021-09-26T14:29:33.001Z"
   },
   {
    "duration": 3,
    "start_time": "2021-09-26T14:29:33.054Z"
   },
   {
    "duration": 14,
    "start_time": "2021-09-26T14:29:33.059Z"
   },
   {
    "duration": 39,
    "start_time": "2021-09-26T14:29:33.075Z"
   },
   {
    "duration": 30,
    "start_time": "2021-09-26T14:29:33.116Z"
   },
   {
    "duration": 12,
    "start_time": "2021-09-26T14:29:33.149Z"
   },
   {
    "duration": 4,
    "start_time": "2021-09-26T14:29:33.163Z"
   },
   {
    "duration": 31,
    "start_time": "2021-09-26T14:29:33.168Z"
   },
   {
    "duration": 15,
    "start_time": "2021-09-26T14:29:33.201Z"
   },
   {
    "duration": 32,
    "start_time": "2021-09-26T14:29:33.218Z"
   },
   {
    "duration": 15,
    "start_time": "2021-09-26T14:29:33.252Z"
   },
   {
    "duration": 19,
    "start_time": "2021-09-26T14:29:33.268Z"
   },
   {
    "duration": 16,
    "start_time": "2021-09-26T14:29:33.288Z"
   },
   {
    "duration": 8,
    "start_time": "2021-09-26T14:29:33.305Z"
   },
   {
    "duration": 46,
    "start_time": "2021-09-26T14:29:33.315Z"
   },
   {
    "duration": 13,
    "start_time": "2021-09-26T14:29:33.363Z"
   },
   {
    "duration": 4,
    "start_time": "2021-09-26T14:29:33.377Z"
   },
   {
    "duration": 31,
    "start_time": "2021-09-26T14:29:33.383Z"
   },
   {
    "duration": 14,
    "start_time": "2021-09-26T14:29:35.717Z"
   },
   {
    "duration": 12,
    "start_time": "2021-09-26T14:29:39.236Z"
   },
   {
    "duration": 21,
    "start_time": "2021-09-26T14:30:14.086Z"
   },
   {
    "duration": 14,
    "start_time": "2021-09-26T14:30:17.060Z"
   },
   {
    "duration": 14,
    "start_time": "2021-09-26T14:30:38.678Z"
   },
   {
    "duration": 19,
    "start_time": "2021-09-26T14:30:41.253Z"
   },
   {
    "duration": 13,
    "start_time": "2021-09-26T14:30:43.877Z"
   },
   {
    "duration": 529,
    "start_time": "2021-09-28T18:32:13.408Z"
   },
   {
    "duration": 1156,
    "start_time": "2021-09-28T18:32:29.633Z"
   },
   {
    "duration": 198,
    "start_time": "2021-09-28T18:32:30.792Z"
   },
   {
    "duration": 12,
    "start_time": "2021-09-28T18:32:30.995Z"
   },
   {
    "duration": 56,
    "start_time": "2021-09-28T18:32:31.011Z"
   },
   {
    "duration": 30,
    "start_time": "2021-09-28T18:32:31.070Z"
   },
   {
    "duration": 50,
    "start_time": "2021-09-28T18:32:31.103Z"
   },
   {
    "duration": 25,
    "start_time": "2021-09-28T18:32:31.156Z"
   },
   {
    "duration": 45,
    "start_time": "2021-09-28T18:32:31.183Z"
   },
   {
    "duration": 27,
    "start_time": "2021-09-28T18:32:31.233Z"
   },
   {
    "duration": 39,
    "start_time": "2021-09-28T18:32:31.264Z"
   },
   {
    "duration": 103,
    "start_time": "2021-09-28T18:32:31.306Z"
   },
   {
    "duration": 120,
    "start_time": "2021-09-28T18:32:31.412Z"
   },
   {
    "duration": 108,
    "start_time": "2021-09-28T18:32:31.535Z"
   },
   {
    "duration": 76,
    "start_time": "2021-09-28T18:32:31.645Z"
   },
   {
    "duration": 6,
    "start_time": "2021-09-28T18:32:31.724Z"
   },
   {
    "duration": 38,
    "start_time": "2021-09-28T18:32:31.732Z"
   },
   {
    "duration": 67,
    "start_time": "2021-09-28T18:32:31.772Z"
   },
   {
    "duration": 38,
    "start_time": "2021-09-28T18:32:31.842Z"
   },
   {
    "duration": 16,
    "start_time": "2021-09-28T18:32:31.882Z"
   },
   {
    "duration": 5,
    "start_time": "2021-09-28T18:32:31.901Z"
   },
   {
    "duration": 66,
    "start_time": "2021-09-28T18:32:31.909Z"
   },
   {
    "duration": 22,
    "start_time": "2021-09-28T18:32:31.977Z"
   },
   {
    "duration": 20,
    "start_time": "2021-09-28T18:32:32.002Z"
   },
   {
    "duration": 63,
    "start_time": "2021-09-28T18:32:32.025Z"
   },
   {
    "duration": 24,
    "start_time": "2021-09-28T18:32:32.091Z"
   },
   {
    "duration": 50,
    "start_time": "2021-09-28T18:32:32.117Z"
   },
   {
    "duration": 13,
    "start_time": "2021-09-28T18:32:32.172Z"
   },
   {
    "duration": 17,
    "start_time": "2021-09-28T18:32:32.188Z"
   },
   {
    "duration": 14,
    "start_time": "2021-09-28T18:32:32.207Z"
   },
   {
    "duration": 7,
    "start_time": "2021-09-28T18:32:32.224Z"
   },
   {
    "duration": 28,
    "start_time": "2021-09-28T18:32:32.267Z"
   },
   {
    "duration": 18,
    "start_time": "2021-09-28T18:32:32.297Z"
   },
   {
    "duration": 51,
    "start_time": "2021-09-28T18:32:32.317Z"
   },
   {
    "duration": 16,
    "start_time": "2021-09-28T18:32:32.371Z"
   },
   {
    "duration": 466,
    "start_time": "2021-09-28T18:32:33.582Z"
   },
   {
    "duration": 11,
    "start_time": "2021-09-28T18:32:41.790Z"
   },
   {
    "duration": 12,
    "start_time": "2021-09-28T18:32:47.023Z"
   },
   {
    "duration": 6,
    "start_time": "2021-09-28T18:33:24.769Z"
   },
   {
    "duration": 410,
    "start_time": "2021-09-28T18:34:02.766Z"
   },
   {
    "duration": 7,
    "start_time": "2021-09-28T18:34:06.575Z"
   },
   {
    "duration": 4,
    "start_time": "2021-09-28T18:34:15.092Z"
   },
   {
    "duration": 225,
    "start_time": "2021-09-28T18:34:15.098Z"
   },
   {
    "duration": 10,
    "start_time": "2021-09-28T18:34:15.326Z"
   },
   {
    "duration": 55,
    "start_time": "2021-09-28T18:34:15.339Z"
   },
   {
    "duration": 7,
    "start_time": "2021-09-28T18:34:15.397Z"
   },
   {
    "duration": 24,
    "start_time": "2021-09-28T18:34:15.407Z"
   },
   {
    "duration": 6,
    "start_time": "2021-09-28T18:34:15.467Z"
   },
   {
    "duration": 33,
    "start_time": "2021-09-28T18:34:15.477Z"
   },
   {
    "duration": 61,
    "start_time": "2021-09-28T18:34:15.513Z"
   },
   {
    "duration": 30,
    "start_time": "2021-09-28T18:34:15.576Z"
   },
   {
    "duration": 103,
    "start_time": "2021-09-28T18:34:15.608Z"
   },
   {
    "duration": 107,
    "start_time": "2021-09-28T18:34:15.714Z"
   },
   {
    "duration": 85,
    "start_time": "2021-09-28T18:34:15.823Z"
   },
   {
    "duration": 69,
    "start_time": "2021-09-28T18:34:15.910Z"
   },
   {
    "duration": 4,
    "start_time": "2021-09-28T18:34:15.982Z"
   },
   {
    "duration": 21,
    "start_time": "2021-09-28T18:34:15.988Z"
   },
   {
    "duration": 85,
    "start_time": "2021-09-28T18:34:16.011Z"
   },
   {
    "duration": 16,
    "start_time": "2021-09-28T18:34:16.099Z"
   },
   {
    "duration": 15,
    "start_time": "2021-09-28T18:34:16.120Z"
   },
   {
    "duration": 5,
    "start_time": "2021-09-28T18:34:16.167Z"
   },
   {
    "duration": 34,
    "start_time": "2021-09-28T18:34:16.175Z"
   },
   {
    "duration": 19,
    "start_time": "2021-09-28T18:34:16.212Z"
   },
   {
    "duration": 45,
    "start_time": "2021-09-28T18:34:16.234Z"
   },
   {
    "duration": 19,
    "start_time": "2021-09-28T18:34:16.281Z"
   },
   {
    "duration": 22,
    "start_time": "2021-09-28T18:34:16.302Z"
   },
   {
    "duration": 49,
    "start_time": "2021-09-28T18:34:16.327Z"
   },
   {
    "duration": 12,
    "start_time": "2021-09-28T18:34:16.378Z"
   },
   {
    "duration": 24,
    "start_time": "2021-09-28T18:34:16.393Z"
   },
   {
    "duration": 16,
    "start_time": "2021-09-28T18:34:16.420Z"
   },
   {
    "duration": 5,
    "start_time": "2021-09-28T18:34:16.468Z"
   },
   {
    "duration": 30,
    "start_time": "2021-09-28T18:34:16.476Z"
   },
   {
    "duration": 16,
    "start_time": "2021-09-28T18:34:16.509Z"
   },
   {
    "duration": 48,
    "start_time": "2021-09-28T18:34:16.527Z"
   },
   {
    "duration": 17,
    "start_time": "2021-09-28T18:34:16.577Z"
   },
   {
    "duration": 414,
    "start_time": "2021-09-28T18:34:18.445Z"
   },
   {
    "duration": 12,
    "start_time": "2021-09-28T18:34:38.588Z"
   },
   {
    "duration": 7,
    "start_time": "2021-09-28T18:34:41.277Z"
   },
   {
    "duration": 8,
    "start_time": "2021-09-28T18:36:42.574Z"
   },
   {
    "duration": 7,
    "start_time": "2021-09-28T18:37:02.524Z"
   },
   {
    "duration": 5,
    "start_time": "2021-09-28T18:38:33.196Z"
   },
   {
    "duration": 214,
    "start_time": "2021-09-28T18:38:35.610Z"
   },
   {
    "duration": 10,
    "start_time": "2021-09-28T18:38:39.234Z"
   },
   {
    "duration": 33,
    "start_time": "2021-09-28T18:38:42.443Z"
   },
   {
    "duration": 6,
    "start_time": "2021-09-28T18:38:48.426Z"
   },
   {
    "duration": 23,
    "start_time": "2021-09-28T18:38:50.954Z"
   },
   {
    "duration": 6,
    "start_time": "2021-09-28T18:38:54.265Z"
   },
   {
    "duration": 32,
    "start_time": "2021-09-28T18:38:57.419Z"
   },
   {
    "duration": 25,
    "start_time": "2021-09-28T18:39:01.306Z"
   },
   {
    "duration": 32,
    "start_time": "2021-09-28T18:39:03.529Z"
   },
   {
    "duration": 88,
    "start_time": "2021-09-28T18:39:07.974Z"
   },
   {
    "duration": 95,
    "start_time": "2021-09-28T18:39:09.434Z"
   },
   {
    "duration": 77,
    "start_time": "2021-09-28T18:39:13.082Z"
   },
   {
    "duration": 58,
    "start_time": "2021-09-28T18:39:16.042Z"
   },
   {
    "duration": 5,
    "start_time": "2021-09-28T18:39:19.724Z"
   },
   {
    "duration": 15,
    "start_time": "2021-09-28T18:39:21.978Z"
   },
   {
    "duration": 60,
    "start_time": "2021-09-28T18:39:26.073Z"
   },
   {
    "duration": 16,
    "start_time": "2021-09-28T18:39:32.154Z"
   },
   {
    "duration": 18,
    "start_time": "2021-09-28T18:39:34.728Z"
   },
   {
    "duration": 5,
    "start_time": "2021-09-28T18:39:38.330Z"
   },
   {
    "duration": 24,
    "start_time": "2021-09-28T18:39:41.386Z"
   },
   {
    "duration": 20,
    "start_time": "2021-09-28T18:39:42.409Z"
   },
   {
    "duration": 20,
    "start_time": "2021-09-28T18:39:43.289Z"
   },
   {
    "duration": 20,
    "start_time": "2021-09-28T18:39:44.104Z"
   },
   {
    "duration": 23,
    "start_time": "2021-09-28T18:39:44.810Z"
   },
   {
    "duration": 19,
    "start_time": "2021-09-28T18:39:45.544Z"
   },
   {
    "duration": 12,
    "start_time": "2021-09-28T18:39:49.449Z"
   },
   {
    "duration": 20,
    "start_time": "2021-09-28T18:39:54.393Z"
   },
   {
    "duration": 17,
    "start_time": "2021-09-28T18:39:55.160Z"
   },
   {
    "duration": 7,
    "start_time": "2021-09-28T18:39:57.850Z"
   },
   {
    "duration": 26,
    "start_time": "2021-09-28T18:40:00.450Z"
   },
   {
    "duration": 17,
    "start_time": "2021-09-28T18:40:03.352Z"
   },
   {
    "duration": 24,
    "start_time": "2021-09-28T18:40:05.625Z"
   },
   {
    "duration": 17,
    "start_time": "2021-09-28T18:40:08.344Z"
   },
   {
    "duration": 88,
    "start_time": "2021-09-29T06:02:03.315Z"
   },
   {
    "duration": 105,
    "start_time": "2021-09-29T18:19:00.127Z"
   },
   {
    "duration": 731,
    "start_time": "2021-09-29T18:22:42.246Z"
   },
   {
    "duration": 329,
    "start_time": "2021-09-29T18:22:55.049Z"
   },
   {
    "duration": 3,
    "start_time": "2021-09-29T18:23:01.587Z"
   },
   {
    "duration": 169,
    "start_time": "2021-09-29T18:23:01.592Z"
   },
   {
    "duration": 19,
    "start_time": "2021-09-29T18:23:03.848Z"
   },
   {
    "duration": 128,
    "start_time": "2021-09-29T18:23:51.833Z"
   },
   {
    "duration": 159,
    "start_time": "2021-09-29T18:23:55.596Z"
   },
   {
    "duration": 87,
    "start_time": "2021-09-29T18:25:43.004Z"
   },
   {
    "duration": 87,
    "start_time": "2021-09-29T18:27:20.151Z"
   },
   {
    "duration": 2,
    "start_time": "2021-09-29T18:27:24.241Z"
   },
   {
    "duration": 150,
    "start_time": "2021-09-29T18:27:24.247Z"
   },
   {
    "duration": 10,
    "start_time": "2021-09-29T18:27:24.399Z"
   },
   {
    "duration": 39,
    "start_time": "2021-09-29T18:27:24.412Z"
   },
   {
    "duration": 7,
    "start_time": "2021-09-29T18:27:24.453Z"
   },
   {
    "duration": 22,
    "start_time": "2021-09-29T18:27:24.462Z"
   },
   {
    "duration": 21,
    "start_time": "2021-09-29T18:27:24.485Z"
   },
   {
    "duration": 4,
    "start_time": "2021-09-29T18:27:24.507Z"
   },
   {
    "duration": 59,
    "start_time": "2021-09-29T18:27:24.513Z"
   },
   {
    "duration": 16,
    "start_time": "2021-09-29T18:27:24.574Z"
   },
   {
    "duration": 22,
    "start_time": "2021-09-29T18:27:24.592Z"
   },
   {
    "duration": 88,
    "start_time": "2021-09-29T18:27:27.957Z"
   },
   {
    "duration": 55,
    "start_time": "2021-09-29T18:27:34.374Z"
   },
   {
    "duration": 51,
    "start_time": "2021-09-29T18:29:54.949Z"
   },
   {
    "duration": 2,
    "start_time": "2021-09-29T18:30:00.566Z"
   },
   {
    "duration": 153,
    "start_time": "2021-09-29T18:30:00.572Z"
   },
   {
    "duration": 11,
    "start_time": "2021-09-29T18:30:00.727Z"
   },
   {
    "duration": 34,
    "start_time": "2021-09-29T18:30:00.740Z"
   },
   {
    "duration": 10,
    "start_time": "2021-09-29T18:30:00.776Z"
   },
   {
    "duration": 26,
    "start_time": "2021-09-29T18:30:00.788Z"
   },
   {
    "duration": 40,
    "start_time": "2021-09-29T18:30:00.816Z"
   },
   {
    "duration": 6,
    "start_time": "2021-09-29T18:30:00.858Z"
   },
   {
    "duration": 38,
    "start_time": "2021-09-29T18:30:00.866Z"
   },
   {
    "duration": 38,
    "start_time": "2021-09-29T18:30:00.905Z"
   },
   {
    "duration": 32,
    "start_time": "2021-09-29T18:30:00.945Z"
   },
   {
    "duration": 58,
    "start_time": "2021-09-29T18:30:00.978Z"
   },
   {
    "duration": 72,
    "start_time": "2021-09-29T18:30:01.037Z"
   },
   {
    "duration": 46,
    "start_time": "2021-09-29T18:30:02.869Z"
   },
   {
    "duration": 87,
    "start_time": "2021-09-29T18:31:00.052Z"
   }
  ],
  "colab": {
   "collapsed_sections": [
    "E0vqbgi9ay0H",
    "VUC88oWjTJw2"
   ],
   "name": "yandex_music_project_2021.2.ipynb",
   "provenance": []
  },
  "kernelspec": {
   "display_name": "Python 3 (ipykernel)",
   "language": "python",
   "name": "python3"
  },
  "language_info": {
   "codemirror_mode": {
    "name": "ipython",
    "version": 3
   },
   "file_extension": ".py",
   "mimetype": "text/x-python",
   "name": "python",
   "nbconvert_exporter": "python",
   "pygments_lexer": "ipython3",
   "version": "3.8.9"
  },
  "toc": {
   "base_numbering": 1,
   "nav_menu": {},
   "number_sections": true,
   "sideBar": true,
   "skip_h1_title": true,
   "title_cell": "Table of Contents",
   "title_sidebar": "Contents",
   "toc_cell": false,
   "toc_position": {
    "height": "calc(100% - 180px)",
    "left": "10px",
    "top": "150px",
    "width": "156.534px"
   },
   "toc_section_display": true,
   "toc_window_display": true
  }
 },
 "nbformat": 4,
 "nbformat_minor": 4
}
